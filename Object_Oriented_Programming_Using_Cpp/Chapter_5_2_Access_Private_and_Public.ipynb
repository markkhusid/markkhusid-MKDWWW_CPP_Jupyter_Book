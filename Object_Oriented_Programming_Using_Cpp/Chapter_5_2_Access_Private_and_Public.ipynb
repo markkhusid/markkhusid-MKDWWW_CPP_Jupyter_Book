{
 "cells": [
  {
   "cell_type": "raw",
   "id": "15b484a3-b826-4b72-ad90-8fc090a94c25",
   "metadata": {},
   "source": [
    "---\n",
    "jupytext:\n",
    "  formats: md:myst\n",
    "  text_representation:\n",
    "    extension: .md\n",
    "    format_name: myst\n",
    "kernelspec:\n",
    "  display_name: Python 3\n",
    "  language: python\n",
    "  name: python3\n",
    "---"
   ]
  },
  {
   "cell_type": "markdown",
   "id": "4fae3c47-7ba5-411e-929d-45543f813a61",
   "metadata": {
    "tags": []
   },
   "source": [
    "# Access: Private and Public"
   ]
  },
  {
   "cell_type": "markdown",
   "id": "da8da31b-2a7d-4e52-a914-442ca5a67839",
   "metadata": {},
   "source": [
    "Adapted from: \"Object-Oriented Programming Using C++\" by Ira Pohl (Addison- Wesley)"
   ]
  },
  {
   "cell_type": "markdown",
   "id": "6d7f6d49-ca5d-4d20-bf88-0bf99bdba5ea",
   "metadata": {},
   "source": [
    "## Program that demonstrates private and public access of object items in C++"
   ]
  },
  {
   "cell_type": "markdown",
   "id": "64c40f9e",
   "metadata": {},
   "source": [
    "ch_stac3.cpp"
   ]
  },
  {
   "cell_type": "markdown",
   "id": "fae9a7ec-75a5-4a60-b10f-3b4693886d0c",
   "metadata": {},
   "source": [
    "```c++\n",
    "// Reverse a string with a ch_stack.\n",
    "#include <iostream>\n",
    "#include \"ch_stac3.h\"\n",
    "\n",
    "using namespace std;\n",
    "\n",
    "int main ()\n",
    "{\n",
    "    ch_stack s;\n",
    "    char str[40] = {\"My name is Don Knuth!\"};\n",
    "    int i = 0;\n",
    "\n",
    "    cout << str << endl;\n",
    "    s.reset();  // s.top = EMPTY would be illegal\n",
    "\n",
    "    while (str[i] && !s.full())\n",
    "    {\n",
    "        s.push(str[i++]);\n",
    "    }\n",
    "\n",
    "    while (!s.empty())      // print the reverse\n",
    "    {\n",
    "        cout << s.pop();\n",
    "    }\n",
    "\n",
    "    cout << endl;\n",
    "}\n",
    "```"
   ]
  },
  {
   "cell_type": "markdown",
   "id": "ab0a294d",
   "metadata": {},
   "source": [
    "ch_stac3.h"
   ]
  },
  {
   "cell_type": "markdown",
   "id": "4b1fdf78",
   "metadata": {},
   "source": [
    "```c++\n",
    "struct ch_stack {\n",
    "    public:\n",
    "        void reset ()       { top = EMPTY; }\n",
    "        void push (char c)  { top++; s[top] = c; }\n",
    "        char pop ()         { return s[top--]; }\n",
    "        char top_of ()      { return s[top]; }\n",
    "        bool empty ()      { return ( top == EMPTY ); }\n",
    "        bool full ()        { return ( top == FULL  ); }\n",
    "\n",
    "    private:\n",
    "        enum \n",
    "        {  \n",
    "            max_len = 100,\n",
    "            EMPTY = -1,\n",
    "            FULL = max_len-1\n",
    "                \n",
    "        };\n",
    "\n",
    "        char s[max_len];\n",
    "        int top;\n",
    "};\n",
    "```"
   ]
  },
  {
   "cell_type": "markdown",
   "id": "e7e2abf0-947f-407d-8084-28bf87186370",
   "metadata": {},
   "source": [
    "The above program is compiled and run using Gnu Compiler Collection (g++):"
   ]
  },
  {
   "cell_type": "code",
   "execution_count": 1,
   "id": "f091e74f-fca0-43fa-8114-1c526abb4f95",
   "metadata": {},
   "outputs": [],
   "source": [
    "import os\n",
    "root_dir = os.getcwd()"
   ]
  },
  {
   "cell_type": "code",
   "execution_count": 2,
   "id": "9836a2e4-d065-4ba0-928b-66a4e7cce418",
   "metadata": {},
   "outputs": [],
   "source": [
    "code_dir = root_dir + \"/\" + \"Cpp_Code/Chapter_5_2_Access_Private_and_Public\""
   ]
  },
  {
   "cell_type": "code",
   "execution_count": 3,
   "id": "af912e98-7de3-40d7-8825-217493f6a66b",
   "metadata": {},
   "outputs": [],
   "source": [
    "os.chdir(code_dir)"
   ]
  },
  {
   "cell_type": "code",
   "execution_count": 4,
   "id": "a734c6b9-cf2b-455b-a921-40f7efc58bd2",
   "metadata": {},
   "outputs": [],
   "source": [
    "build_command = os.system(\"g++ ch_stac3.cpp -w -o ch_stac3\")"
   ]
  },
  {
   "cell_type": "code",
   "execution_count": 5,
   "id": "e58df301-ac7c-4090-bc7f-87caea2890fa",
   "metadata": {},
   "outputs": [
    {
     "name": "stdout",
     "output_type": "stream",
     "text": [
      "My name is Don Knuth!\n",
      "!htunK noD si eman yM\n"
     ]
    }
   ],
   "source": [
    "exec_status = os.system(\"./ch_stac3\")"
   ]
  }
 ],
 "metadata": {
  "kernelspec": {
   "display_name": "Python 3 (ipykernel)",
   "language": "python",
   "name": "python3"
  },
  "language_info": {
   "codemirror_mode": {
    "name": "ipython",
    "version": 3
   },
   "file_extension": ".py",
   "mimetype": "text/x-python",
   "name": "python",
   "nbconvert_exporter": "python",
   "pygments_lexer": "ipython3",
   "version": "3.9.2"
  },
  "vscode": {
   "interpreter": {
    "hash": "916dbcbb3f70747c44a77c7bcd40155683ae19c65e1c03b4aa3499c5328201f1"
   }
  }
 },
 "nbformat": 4,
 "nbformat_minor": 5
}
