{
 "cells": [
  {
   "cell_type": "raw",
   "id": "15b484a3-b826-4b72-ad90-8fc090a94c25",
   "metadata": {},
   "source": [
    "---\n",
    "jupytext:\n",
    "  formats: md:myst\n",
    "  text_representation:\n",
    "    extension: .md\n",
    "    format_name: myst\n",
    "kernelspec:\n",
    "  display_name: Python 3\n",
    "  language: python\n",
    "  name: python3\n",
    "---"
   ]
  },
  {
   "cell_type": "markdown",
   "id": "4fae3c47-7ba5-411e-929d-45543f813a61",
   "metadata": {
    "tags": []
   },
   "source": [
    "# 6.3 Classes with Destructors"
   ]
  },
  {
   "cell_type": "markdown",
   "id": "da8da31b-2a7d-4e52-a914-442ca5a67839",
   "metadata": {},
   "source": [
    "Adapted from: \"Object-Oriented Programming Using C++\" by Ira Pohl (Addison - Wesley)"
   ]
  },
  {
   "cell_type": "markdown",
   "id": "6d7f6d49-ca5d-4d20-bf88-0bf99bdba5ea",
   "metadata": {},
   "source": [
    "## Program that demonstrates a class with a destructor in C++"
   ]
  },
  {
   "cell_type": "markdown",
   "id": "a417fe12",
   "metadata": {},
   "source": [
    "### In file ch_stac4.h"
   ]
  },
  {
   "cell_type": "markdown",
   "id": "98e72bd7",
   "metadata": {},
   "source": [
    "```C++\n",
    "/*********************************************************************\n",
    "\n",
    "  Filename:  ch_stac4.h\n",
    "  Chapter:   6      Object Creation and Destruction\n",
    "  Section:   6.2    Constructing a Dynamically Sized Stack\n",
    "  Compiler:  Borland C++     Version 5.0       Summer 1996\n",
    "  Object Oriented Programming Using C++, Edition 2   By Ira Pohl\n",
    "\n",
    "*********************************************************************/\n",
    "\n",
    "//Stack implementation with constructor\n",
    "\n",
    "#include <iostream>        // Changed iostream.h to iostream. MK.\n",
    "#include <assert.h>\n",
    "#include <cstring>         // Added. MK.\n",
    "\n",
    "//ch_stack implementation with constructor.\n",
    "class ch_stack {\n",
    "public:\n",
    "//the public interface for the ADT ch_stack\n",
    "   explicit ch_stack(int size):\n",
    "      max_len( size), top(EMPTY)\n",
    "      { \n",
    "         assert(size > 0);\n",
    "         s = new char[size]; \n",
    "         assert(s != 0);\n",
    "      }\n",
    "   ch_stack();                            // default constructor\n",
    "   ch_stack(const ch_stack& str);         //Copy constructor for ch_stack of characters\n",
    "   ch_stack(int size, const char str[]);  // domain transfer\n",
    "  ~ch_stack() { delete []s; }             // destructor\n",
    "   void  reset() { top = EMPTY; }\n",
    "   void  push(char c) { s[++top]= c; }\n",
    "   char  pop() { return s[top--]; }\n",
    "   char  top_of() const { return s[top]; }\n",
    "   bool  empty() const { return (top == EMPTY); }\n",
    "   bool  full() const { return (top == max_len - 1); }\n",
    "private:\n",
    "   enum  { EMPTY = -1 };\n",
    "   char*  s;              //changed from s[max_len]\n",
    "   int    max_len;\n",
    "   int    top;\n",
    "};\n",
    "\n",
    "//default constructor for ch_stack\n",
    "ch_stack::ch_stack():max_len(100),top(EMPTY)\n",
    "{\n",
    "   s = new char[100];\n",
    "   assert(s != 0);\n",
    "}\n",
    "\n",
    "//domain transfer\n",
    "ch_stack::ch_stack(int size, const char str[]):\n",
    "   max_len(size)\n",
    "{\n",
    "   int i;\n",
    "   assert(size > 0);\n",
    "   s = new char[size];\n",
    "   assert(s != 0);\n",
    "   for (i = 0; i < max_len && str[i] != 0; ++i)\n",
    "      s[i] = str[i];\n",
    "   top = --i;\n",
    "}\n",
    "\n",
    "//Copy constructor for ch_stack of characters\n",
    "ch_stack::ch_stack(const ch_stack& str):\n",
    "   max_len(str.max_len),top(str.top)\n",
    "{\n",
    "   s = new char[str.max_len];\n",
    "   assert(s != 0);\n",
    "   memcpy(s, str.s, max_len);\n",
    "}\n",
    "```"
   ]
  },
  {
   "cell_type": "markdown",
   "id": "17067957",
   "metadata": {},
   "source": [
    "### In file ch_stack4.cpp"
   ]
  },
  {
   "cell_type": "markdown",
   "id": "fae9a7ec-75a5-4a60-b10f-3b4693886d0c",
   "metadata": {},
   "source": [
    "```c++\n",
    "/*********************************************************************\n",
    "\n",
    "  Filename:  ch_stac4.cpp\n",
    "  Chapter:   6      Object Creation and Destruction\n",
    "  Section:   6.2    Constructing a Dynamically Sized Stack\n",
    "  Compiler:  Borland C++     Version 5.0       Summer 1996\n",
    "  Object Oriented Programming Using C++, Edition 2   By Ira Pohl\n",
    "\n",
    "*********************************************************************/\n",
    "\n",
    "//Stack implementation with constructor\n",
    "\n",
    "#include <iostream>        // changed iostream.h to iostream. MK.\n",
    "#include \"ch_stac4.h\"\n",
    "\n",
    "using namespace std;       // Added. MK.\n",
    "\n",
    "\n",
    "int cnt_char(char c, ch_stack s)\n",
    "{\n",
    "   int  count = 0;\n",
    "\n",
    "   while (!s.empty())\n",
    "      count += (c == s.pop());\n",
    "   return count;\n",
    "}\n",
    "\n",
    "int main()\n",
    "{\n",
    "   ch_stack  typea(100);    //size only\n",
    "   ch_stack  typeb;         //no size\n",
    "   ch_stack  typec(50, \"My name is Ira Pohl!\\n\");  //size and initializer\n",
    "   ch_stack  typed(typec);\n",
    "   char reverseline[200];\n",
    "   char a [30] = {\"My name is Laura Pohl!\\n\"};\n",
    "   char b [40] = {\"My name is Debra Dolsberry!\\n\"};\n",
    "   int  i = 0;\n",
    "\n",
    "   cout << \"\\nNumber of a's in typec shoud be 2. It is \"\n",
    "        << cnt_char('a', typec) << \".\" << endl;\n",
    "\n",
    "   typea.reset();\n",
    "\n",
    "   while (a[i])\n",
    "      if (!typea.full())\n",
    "    typea.push(a[i++]);\n",
    "\n",
    "   i = 0;\n",
    "   while (!typea.empty())\n",
    "      reverseline[i++] = typea.pop();\n",
    "   reverseline[i] = '\\0';\n",
    "   cout << reverseline;\n",
    "\n",
    "   i = 0;\n",
    "   while (b[i])\n",
    "      if (!typeb.full())\n",
    "    typeb.push(b[i++]);\n",
    "\n",
    "   i = 0;\n",
    "   while (!typeb.empty())\n",
    "      reverseline[i++] = typeb.pop();\n",
    "   reverseline[i] = '\\0';\n",
    "   cout << reverseline;\n",
    "\n",
    "   i = 0;\n",
    "   while (!typec.empty())\n",
    "      reverseline[i++] = typec.pop();\n",
    "   reverseline[i] = '\\0';\n",
    "   cout << reverseline;\n",
    "   i = 0;\n",
    "\n",
    "   while (!typed.empty())\n",
    "      reverseline[i++] = typed.pop();\n",
    "   reverseline[i] = '\\0';\n",
    "   cout << reverseline;\n",
    "\n",
    "   cout << endl;        // Added to clean up formattting. MK.\n",
    "}\n",
    "\n",
    "```"
   ]
  },
  {
   "cell_type": "markdown",
   "id": "3e111038",
   "metadata": {},
   "source": [
    "## Compilation Process"
   ]
  },
  {
   "cell_type": "markdown",
   "id": "e7e2abf0-947f-407d-8084-28bf87186370",
   "metadata": {},
   "source": [
    "The above program is compiled and run using Gnu Compiler Collection (g++):"
   ]
  },
  {
   "cell_type": "code",
   "execution_count": 1,
   "id": "f091e74f-fca0-43fa-8114-1c526abb4f95",
   "metadata": {},
   "outputs": [],
   "source": [
    "import os\n",
    "root_dir = os.getcwd()"
   ]
  },
  {
   "cell_type": "code",
   "execution_count": 2,
   "id": "9836a2e4-d065-4ba0-928b-66a4e7cce418",
   "metadata": {},
   "outputs": [],
   "source": [
    "code_dir = root_dir + \"/\" + \\\n",
    "    \"Cpp_Code/Chapter_6_3_Classes_with_Destructors\""
   ]
  },
  {
   "cell_type": "code",
   "execution_count": 3,
   "id": "af912e98-7de3-40d7-8825-217493f6a66b",
   "metadata": {},
   "outputs": [],
   "source": [
    "os.chdir(code_dir)"
   ]
  },
  {
   "cell_type": "code",
   "execution_count": 4,
   "id": "a734c6b9-cf2b-455b-a921-40f7efc58bd2",
   "metadata": {},
   "outputs": [],
   "source": [
    "build_command = os.system(\"g++ ch_stac4.cpp -w -o ch_stac4\")"
   ]
  },
  {
   "cell_type": "markdown",
   "id": "999f33dc",
   "metadata": {},
   "source": [
    "## Execution Process"
   ]
  },
  {
   "cell_type": "code",
   "execution_count": 5,
   "id": "e58df301-ac7c-4090-bc7f-87caea2890fa",
   "metadata": {},
   "outputs": [
    {
     "name": "stdout",
     "output_type": "stream",
     "text": [
      "\n",
      "Number of a's in typec shoud be 2. It is 2.\n",
      "\n",
      "!lhoP aruaL si eman yM\n",
      "!yrrebsloD arbeD si eman yM\n",
      "!lhoP arI si eman yM\n",
      "!lhoP arI si eman yM\n"
     ]
    }
   ],
   "source": [
    "exec_status = os.system(\"./ch_stac4\")"
   ]
  }
 ],
 "metadata": {
  "kernelspec": {
   "display_name": "Python 3 (ipykernel)",
   "language": "python",
   "name": "python3"
  },
  "language_info": {
   "codemirror_mode": {
    "name": "ipython",
    "version": 3
   },
   "file_extension": ".py",
   "mimetype": "text/x-python",
   "name": "python",
   "nbconvert_exporter": "python",
   "pygments_lexer": "ipython3",
   "version": "3.9.2"
  },
  "vscode": {
   "interpreter": {
    "hash": "916dbcbb3f70747c44a77c7bcd40155683ae19c65e1c03b4aa3499c5328201f1"
   }
  }
 },
 "nbformat": 4,
 "nbformat_minor": 5
}
