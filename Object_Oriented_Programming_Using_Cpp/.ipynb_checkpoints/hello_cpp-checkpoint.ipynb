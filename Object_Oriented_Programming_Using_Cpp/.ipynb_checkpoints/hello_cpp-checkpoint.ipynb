{
 "cells": [
  {
   "cell_type": "raw",
   "id": "b335a995-22c7-42e0-8dc4-c1bf632d9b56",
   "metadata": {},
   "source": [
    "---\n",
    "jupytext:\n",
    "  formats: md:myst\n",
    "  text_representation:\n",
    "    extension: .md\n",
    "    format_name: myst\n",
    "kernelspec:\n",
    "  display_name: intel fortran\n",
    "  language: intel fortran\n",
    "  name: intel fortran\n",
    "---"
   ]
  },
  {
   "cell_type": "markdown",
   "id": "4fae3c47-7ba5-411e-929d-45543f813a61",
   "metadata": {
    "tags": []
   },
   "source": [
    "# Hello World!"
   ]
  },
  {
   "cell_type": "markdown",
   "id": "da8da31b-2a7d-4e52-a914-442ca5a67839",
   "metadata": {},
   "source": [
    "Adapted from: \"Object-Oriented Programming Using C++\" by Ira Pohl (Addison- Wesley)"
   ]
  },
  {
   "cell_type": "markdown",
   "id": "6d7f6d49-ca5d-4d20-bf88-0bf99bdba5ea",
   "metadata": {},
   "source": [
    "## Program to Display Hello World!"
   ]
  },
  {
   "cell_type": "code",
   "execution_count": 3,
   "id": "07fb2479-b93b-480f-bca4-4f8283c89559",
   "metadata": {},
   "outputs": [
    {
     "name": "stdout",
     "output_type": "stream",
     "text": [
      "Hello World!\n"
     ]
    }
   ],
   "source": [
    "%compiler: g++ .cpp\n",
    "%fcflags: -w\n",
    "\n",
    "// Hello world in C++\n",
    "#include <iostream>\n",
    "#include <string>\n",
    "\n",
    "using namespace std;\n",
    "\n",
    "inline void pr_message(string s = \"Hello World!\")\n",
    "{\n",
    "    cout << s << endl;\n",
    "}\n",
    "\n",
    "int main()\n",
    "{\n",
    "    pr_message();\n",
    "}"
   ]
  },
  {
   "cell_type": "code",
   "execution_count": null,
   "id": "cdeed664-b0c0-407e-bfcd-99db0a62ea01",
   "metadata": {},
   "outputs": [],
   "source": []
  }
 ],
 "metadata": {
  "kernelspec": {
   "display_name": "intel fortran",
   "language": "Fortran",
   "name": "ifort_spec"
  },
  "language_info": {
   "file_extension": "f90",
   "mimetype": "text/plain",
   "name": "fortran"
  }
 },
 "nbformat": 4,
 "nbformat_minor": 5
}
