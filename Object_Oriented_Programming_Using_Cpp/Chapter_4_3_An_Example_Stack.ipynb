{
 "cells": [
  {
   "cell_type": "raw",
   "id": "15b484a3-b826-4b72-ad90-8fc090a94c25",
   "metadata": {},
   "source": [
    "---\n",
    "jupytext:\n",
    "  formats: md:myst\n",
    "  text_representation:\n",
    "    extension: .md\n",
    "    format_name: myst\n",
    "kernelspec:\n",
    "  display_name: Python 3\n",
    "  language: python\n",
    "  name: python3\n",
    "---"
   ]
  },
  {
   "cell_type": "markdown",
   "id": "4fae3c47-7ba5-411e-929d-45543f813a61",
   "metadata": {
    "tags": []
   },
   "source": [
    "# An Example Stack"
   ]
  },
  {
   "cell_type": "markdown",
   "id": "da8da31b-2a7d-4e52-a914-442ca5a67839",
   "metadata": {},
   "source": [
    "Adapted from: \"Object-Oriented Programming Using C++\" by Ira Pohl (Addison- Wesley)"
   ]
  },
  {
   "cell_type": "markdown",
   "id": "6d7f6d49-ca5d-4d20-bf88-0bf99bdba5ea",
   "metadata": {},
   "source": [
    "## Program that demonstrates an example stack data structure in C++"
   ]
  },
  {
   "cell_type": "markdown",
   "id": "6f76fa55",
   "metadata": {},
   "source": [
    "ch1_stac1.cpp"
   ]
  },
  {
   "cell_type": "markdown",
   "id": "fae9a7ec-75a5-4a60-b10f-3b4693886d0c",
   "metadata": {},
   "source": [
    "```c++\n",
    "// Test of ch_stack by reversing a string.\n",
    "#include \"ch_stac1.h\"\n",
    "#include <iostream>\n",
    "\n",
    "using namespace std;\n",
    "\n",
    "int main()\n",
    "{\n",
    "    ch_stack s;\n",
    "    char str[40] = {\"My name is Betty Dolsberry!\"};\n",
    "    int i = 0;\n",
    "\n",
    "    cout << str << endl;\n",
    "    reset(&s);\n",
    "    while (str[i] && !full(&s))\n",
    "        push (&s, str[i++]);\n",
    "    while (!empty(&s))\n",
    "        cout << pop(&s);\n",
    "    cout << endl;\n",
    "}\n",
    "```"
   ]
  },
  {
   "cell_type": "markdown",
   "id": "cd790b5d",
   "metadata": {},
   "source": [
    "ch_stac1.h"
   ]
  },
  {
   "cell_type": "markdown",
   "id": "f4d910a9",
   "metadata": {},
   "source": [
    "```c++\n",
    "// A simple implementation of type ch_stack\n",
    "\n",
    "const int max_len = 1000;\n",
    "enum { EMPTY = -1, FULL = max_len -1 };\n",
    "\n",
    "struct ch_stack\n",
    "{\n",
    "    char s[max_len];\n",
    "    int top;\n",
    "};\n",
    "\n",
    "// A standard set of ch_stack operations.\n",
    "\n",
    "void reset(ch_stack * stk)\n",
    "{\n",
    "    stk -> top = EMPTY;\n",
    "}\n",
    "\n",
    "void push(ch_stack * stk, char c)\n",
    "{\n",
    "    stk -> s[++stk -> top] = c;  \n",
    "}\n",
    "\n",
    "char pop(ch_stack * stk)\n",
    "{\n",
    "    return (stk -> s[stk -> top--]);\n",
    "}\n",
    "\n",
    "char top(ch_stack * stk)\n",
    "{\n",
    "    return (stk -> s[stk -> top]);\n",
    "}\n",
    "\n",
    "bool empty(const ch_stack * stk)\n",
    "{\n",
    "    return (stk -> top == EMPTY); \n",
    "}\n",
    "\n",
    "bool full(const ch_stack * stk)\n",
    "{\n",
    "    return (stk -> top == FULL);\n",
    "}\n",
    "```"
   ]
  },
  {
   "cell_type": "markdown",
   "id": "e7e2abf0-947f-407d-8084-28bf87186370",
   "metadata": {},
   "source": [
    "The above program is compiled and run using Gnu Compiler Collection (g++):"
   ]
  },
  {
   "cell_type": "code",
   "execution_count": 1,
   "id": "f091e74f-fca0-43fa-8114-1c526abb4f95",
   "metadata": {},
   "outputs": [],
   "source": [
    "import os\n",
    "root_dir = os.getcwd()"
   ]
  },
  {
   "cell_type": "code",
   "execution_count": 2,
   "id": "9836a2e4-d065-4ba0-928b-66a4e7cce418",
   "metadata": {},
   "outputs": [],
   "source": [
    "code_dir = root_dir + \"/\" + \"Cpp_Code/Chapter_4_3_An_Example_Stack\""
   ]
  },
  {
   "cell_type": "code",
   "execution_count": 3,
   "id": "af912e98-7de3-40d7-8825-217493f6a66b",
   "metadata": {},
   "outputs": [],
   "source": [
    "os.chdir(code_dir)"
   ]
  },
  {
   "cell_type": "code",
   "execution_count": 4,
   "id": "a734c6b9-cf2b-455b-a921-40f7efc58bd2",
   "metadata": {},
   "outputs": [],
   "source": [
    "build_command = os.system(\"g++ ch_stac1.cpp -w -o ch_stac1\")"
   ]
  },
  {
   "cell_type": "code",
   "execution_count": 5,
   "id": "e58df301-ac7c-4090-bc7f-87caea2890fa",
   "metadata": {},
   "outputs": [
    {
     "name": "stdout",
     "output_type": "stream",
     "text": [
      "My name is Betty Dolsberry!\n",
      "!yrrebsloD ytteB si eman yM\n"
     ]
    }
   ],
   "source": [
    "exec_status = os.system(\"./ch_stac1\")"
   ]
  }
 ],
 "metadata": {
  "kernelspec": {
   "display_name": "Python 3 (ipykernel)",
   "language": "python",
   "name": "python3"
  },
  "language_info": {
   "codemirror_mode": {
    "name": "ipython",
    "version": 3
   },
   "file_extension": ".py",
   "mimetype": "text/x-python",
   "name": "python",
   "nbconvert_exporter": "python",
   "pygments_lexer": "ipython3",
   "version": "3.9.2"
  },
  "vscode": {
   "interpreter": {
    "hash": "916dbcbb3f70747c44a77c7bcd40155683ae19c65e1c03b4aa3499c5328201f1"
   }
  }
 },
 "nbformat": 4,
 "nbformat_minor": 5
}
