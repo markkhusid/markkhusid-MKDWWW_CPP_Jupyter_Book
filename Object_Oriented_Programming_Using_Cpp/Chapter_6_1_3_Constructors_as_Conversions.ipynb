{
 "cells": [
  {
   "cell_type": "raw",
   "id": "15b484a3-b826-4b72-ad90-8fc090a94c25",
   "metadata": {},
   "source": [
    "---\n",
    "jupytext:\n",
    "  formats: md:myst\n",
    "  text_representation:\n",
    "    extension: .md\n",
    "    format_name: myst\n",
    "kernelspec:\n",
    "  display_name: Python 3\n",
    "  language: python\n",
    "  name: python3\n",
    "---"
   ]
  },
  {
   "cell_type": "markdown",
   "id": "4fae3c47-7ba5-411e-929d-45543f813a61",
   "metadata": {
    "tags": []
   },
   "source": [
    "# Constructors as Conversions"
   ]
  },
  {
   "cell_type": "markdown",
   "id": "da8da31b-2a7d-4e52-a914-442ca5a67839",
   "metadata": {},
   "source": [
    "Adapted from: \"Object-Oriented Programming Using C++\" by Ira Pohl (Addison - Wesley)"
   ]
  },
  {
   "cell_type": "markdown",
   "id": "6d7f6d49-ca5d-4d20-bf88-0bf99bdba5ea",
   "metadata": {},
   "source": [
    "## Program that demonstrates conversions with constructors in C++"
   ]
  },
  {
   "cell_type": "markdown",
   "id": "fae9a7ec-75a5-4a60-b10f-3b4693886d0c",
   "metadata": {},
   "source": [
    "```c++\n",
    "/*********************************************************************\n",
    "\n",
    "  Filename:  printabl.cpp\n",
    "  Chapter:   6      Object Creation and Destruction\n",
    "  Section:   6.1    Constructors as Conversions\n",
    "  Compiler:  Borland C++     Version 5.0       Summer 1996\n",
    "  Object Oriented Programming Using C++, Edition 2   By Ira Pohl\n",
    "\n",
    "*********************************************************************/\n",
    "\n",
    "// Adapted for g++ by Mark Khusid\n",
    "\n",
    "// ASCII Printable characters\n",
    "\n",
    "#include <iostream>        // changed iostream.h to iostream MK\n",
    "\n",
    "using namespace std;       // Added by MK\n",
    "\n",
    "class  pr_char {\n",
    "public:\n",
    "   pr_char(int i = 0) : c(i % 128) {}\n",
    "   void   print() const { cout << rep[c]; }\n",
    "private:\n",
    "   int           c;\n",
    "   static const char*  rep[128];\n",
    "};\n",
    "\n",
    "const char*  pr_char::rep[128] = {\n",
    "     \"nul\", \"soh\", \"stx\", \"etx\", \"eot\", \"enq\", \"ack\", \"bel\", \"bs\",  \"ht\",\n",
    "     \"nl\",  \"vt\",  \"np\",  \"cr\",  \"so\",  \"si\",  \"dle\", \"dc1\", \"dc2\", \"dc3\",\n",
    "     \"dc4\", \"nak\", \"syn\", \"etb\",  \"can\", \"em\", \"sub\", \"esc\", \"fs\",  \"gs\",\n",
    "     \"rs\", \"us\", \"sp\", \"!\", \"\\\"\", \"#\", \"$\", \"%\", \"&\", \"'\",\n",
    "     \"(\", \")\", \"*\", \"+\", \",\", \"-\", \".\", \"/\", \"0\", \"1\",\n",
    "     \"2\", \"3\", \"4\", \"5\", \"6\", \"7\", \"8\", \"9\", \":\", \";\",\n",
    "     \"<\", \"=\", \">\", \"?\", \"@\", \"A\", \"B\", \"C\", \"D\", \"E\",\n",
    "     \"F\", \"G\", \"H\", \"I\", \"J\", \"K\", \"L\", \"M\", \"N\", \"O\",\n",
    "     \"P\", \"Q\", \"R\", \"S\", \"T\", \"U\", \"V\", \"W\", \"X\", \"Y\",\n",
    "     \"Z\", \"[\", \"|\", \"]\", \"^\", \"_\", \"'\", \"a\", \"b\", \"c\"\n",
    "     \"d\", \"e\", \"f\", \"g\", \"h\", \"i\", \"j\", \"k\", \"l\", \"m\",\n",
    "     \"n\", \"o\", \"p\", \"q\", \"r\", \"s\", \"t\", \"u\", \"v\", \"w\",\n",
    "     \"x\", \"y\", \"z\", \"{\", \"|\", \"}\", \"~\", \"del\"};\n",
    "\n",
    "int main()\n",
    "{\n",
    "   pr_char  c;\n",
    "\n",
    "   for (int i = 0; i < 128; ++i) {\n",
    "      c = i;  //or: c = static_cast<pr_char>(i);\n",
    "      c.print();\n",
    "      cout << endl;\n",
    "   }\n",
    "}\n",
    "```"
   ]
  },
  {
   "cell_type": "markdown",
   "id": "3e111038",
   "metadata": {},
   "source": [
    "## Compilation Process"
   ]
  },
  {
   "cell_type": "markdown",
   "id": "e7e2abf0-947f-407d-8084-28bf87186370",
   "metadata": {},
   "source": [
    "The above program is compiled and run using Gnu Compiler Collection (g++):"
   ]
  },
  {
   "cell_type": "code",
   "execution_count": 1,
   "id": "f091e74f-fca0-43fa-8114-1c526abb4f95",
   "metadata": {},
   "outputs": [],
   "source": [
    "import os\n",
    "root_dir = os.getcwd()"
   ]
  },
  {
   "cell_type": "code",
   "execution_count": 2,
   "id": "9836a2e4-d065-4ba0-928b-66a4e7cce418",
   "metadata": {},
   "outputs": [],
   "source": [
    "code_dir = root_dir + \"/\" + \\\n",
    "    \"Cpp_Code/Chapter_6_1_3_Constructors_as_Conversions\""
   ]
  },
  {
   "cell_type": "code",
   "execution_count": 3,
   "id": "af912e98-7de3-40d7-8825-217493f6a66b",
   "metadata": {},
   "outputs": [],
   "source": [
    "os.chdir(code_dir)"
   ]
  },
  {
   "cell_type": "code",
   "execution_count": 4,
   "id": "a734c6b9-cf2b-455b-a921-40f7efc58bd2",
   "metadata": {},
   "outputs": [],
   "source": [
    "build_command = os.system(\"g++ printabl.cpp -w -o printabl\")"
   ]
  },
  {
   "cell_type": "markdown",
   "id": "999f33dc",
   "metadata": {},
   "source": [
    "## Execution Process"
   ]
  },
  {
   "cell_type": "code",
   "execution_count": 5,
   "id": "e58df301-ac7c-4090-bc7f-87caea2890fa",
   "metadata": {},
   "outputs": [
    {
     "name": "stdout",
     "output_type": "stream",
     "text": [
      "nul\n",
      "soh\n",
      "stx\n",
      "etx\n",
      "eot\n",
      "enq\n",
      "ack\n",
      "bel\n",
      "bs\n",
      "ht\n",
      "nl\n",
      "vt\n",
      "np\n",
      "cr\n",
      "so\n",
      "si\n",
      "dle\n",
      "dc1\n",
      "dc2\n",
      "dc3\n",
      "dc4\n",
      "nak\n",
      "syn\n",
      "etb\n",
      "can\n",
      "em\n",
      "sub\n",
      "esc\n",
      "fs\n",
      "gs\n",
      "rs\n",
      "us\n",
      "sp\n",
      "!\n",
      "\"\n",
      "#\n",
      "$\n",
      "%\n",
      "&\n",
      "'\n",
      "(\n",
      ")\n",
      "*\n",
      "+\n",
      ",\n",
      "-\n",
      ".\n",
      "/\n",
      "0\n",
      "1\n",
      "2\n",
      "3\n",
      "4\n",
      "5\n",
      "6\n",
      "7\n",
      "8\n",
      "9\n",
      ":\n",
      ";\n",
      "<\n",
      "=\n",
      ">\n",
      "?\n",
      "@\n",
      "A\n",
      "B\n",
      "C\n",
      "D\n",
      "E\n",
      "F\n",
      "G\n",
      "H\n",
      "I\n",
      "J\n",
      "K\n",
      "L\n",
      "M\n",
      "N\n",
      "O\n",
      "P\n",
      "Q\n",
      "R\n",
      "S\n",
      "T\n",
      "U\n",
      "V\n",
      "W\n",
      "X\n",
      "Y\n",
      "Z\n",
      "[\n",
      "|\n",
      "]\n",
      "^\n",
      "_\n",
      "'\n",
      "a\n",
      "b\n",
      "cd\n",
      "e\n",
      "f\n",
      "g\n",
      "h\n",
      "i\n",
      "j\n",
      "k\n",
      "l\n",
      "m\n",
      "n\n",
      "o\n",
      "p\n",
      "q\n",
      "r\n",
      "s\n",
      "t\n",
      "u\n",
      "v\n",
      "w\n",
      "x\n",
      "y\n",
      "z\n",
      "{\n",
      "|\n",
      "}\n",
      "~\n",
      "del\n"
     ]
    }
   ],
   "source": [
    "exec_status = os.system(\"./printabl\")"
   ]
  },
  {
   "cell_type": "code",
   "execution_count": null,
   "id": "40ff8980",
   "metadata": {},
   "outputs": [],
   "source": []
  }
 ],
 "metadata": {
  "kernelspec": {
   "display_name": "Python 3 (ipykernel)",
   "language": "python",
   "name": "python3"
  },
  "language_info": {
   "codemirror_mode": {
    "name": "ipython",
    "version": 3
   },
   "file_extension": ".py",
   "mimetype": "text/x-python",
   "name": "python",
   "nbconvert_exporter": "python",
   "pygments_lexer": "ipython3",
   "version": "3.9.2"
  },
  "vscode": {
   "interpreter": {
    "hash": "916dbcbb3f70747c44a77c7bcd40155683ae19c65e1c03b4aa3499c5328201f1"
   }
  }
 },
 "nbformat": 4,
 "nbformat_minor": 5
}
