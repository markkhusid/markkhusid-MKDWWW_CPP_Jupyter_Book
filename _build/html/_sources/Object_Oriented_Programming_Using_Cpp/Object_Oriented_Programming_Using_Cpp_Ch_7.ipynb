{
 "cells": [
  {
   "cell_type": "raw",
   "id": "da69630d-57d9-48af-a290-4455f068216d",
   "metadata": {},
   "source": [
    "---\n",
    "jupytext:\n",
    "  formats: md:myst\n",
    "  text_representation:\n",
    "    extension: .md\n",
    "    format_name: myst\n",
    "kernelspec:\n",
    "  display_name: Python 3\n",
    "  language: python\n",
    "  name: python3\n",
    "---"
   ]
  },
  {
   "attachments": {},
   "cell_type": "markdown",
   "id": "29b3d245-0fe5-48e2-b541-9f88191c3848",
   "metadata": {},
   "source": [
    "# Chapter 7: Ad Hoc Polymorphism"
   ]
  },
  {
   "cell_type": "markdown",
   "id": "abe9d740-1196-4fe9-ad37-5357cd042142",
   "metadata": {
    "tags": []
   },
   "source": [
    "In this section we will be following along with the examples from \"Object Oriented Programming Using C++\" by Ira Pohl (Addison Wesley). We will use Jupyter Lab and Jupyter Book to facilitate rapid production of HTML content. Where appropriate, the output of the C++ code will be displayed in graphical format using Python scripts and Matplotlib."
   ]
  },
  {
   "attachments": {},
   "cell_type": "markdown",
   "id": "c85fb2e3",
   "metadata": {},
   "source": [
    "```{tableofcontents}\n",
    "```"
   ]
  }
 ],
 "metadata": {
  "kernelspec": {
   "display_name": "Python 3.9.2 64-bit",
   "language": "python",
   "name": "python3"
  },
  "language_info": {
   "codemirror_mode": {
    "name": "ipython",
    "version": 3
   },
   "file_extension": ".py",
   "mimetype": "text/x-python",
   "name": "python",
   "nbconvert_exporter": "python",
   "pygments_lexer": "ipython3",
   "version": "3.9.2 (default, Feb 28 2021, 17:03:44) \n[GCC 10.2.1 20210110]"
  },
  "vscode": {
   "interpreter": {
    "hash": "916dbcbb3f70747c44a77c7bcd40155683ae19c65e1c03b4aa3499c5328201f1"
   }
  }
 },
 "nbformat": 4,
 "nbformat_minor": 5
}
