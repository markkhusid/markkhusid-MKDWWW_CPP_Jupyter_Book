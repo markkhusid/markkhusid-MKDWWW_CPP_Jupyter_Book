{
 "cells": [
  {
   "cell_type": "raw",
   "id": "15b484a3-b826-4b72-ad90-8fc090a94c25",
   "metadata": {},
   "source": [
    "---\n",
    "jupytext:\n",
    "  formats: md:myst\n",
    "  text_representation:\n",
    "    extension: .md\n",
    "    format_name: myst\n",
    "kernelspec:\n",
    "  display_name: Python 3\n",
    "  language: python\n",
    "  name: python3\n",
    "---"
   ]
  },
  {
   "cell_type": "markdown",
   "id": "4fae3c47-7ba5-411e-929d-45543f813a61",
   "metadata": {
    "tags": []
   },
   "source": [
    "# Two Dimensional Dynamic Arrays"
   ]
  },
  {
   "cell_type": "markdown",
   "id": "da8da31b-2a7d-4e52-a914-442ca5a67839",
   "metadata": {},
   "source": [
    "Adapted from: \"Object-Oriented Programming Using C++\" by Ira Pohl (Addison- Wesley)"
   ]
  },
  {
   "cell_type": "markdown",
   "id": "6d7f6d49-ca5d-4d20-bf88-0bf99bdba5ea",
   "metadata": {},
   "source": [
    "## Program that demonstrates dynamic arracy creation, manipulation and destruction in C++"
   ]
  },
  {
   "cell_type": "markdown",
   "id": "fae9a7ec-75a5-4a60-b10f-3b4693886d0c",
   "metadata": {},
   "source": [
    "```c++\n",
    "// Dynamic arrays in two dimensions\n",
    "#include <iostream>\n",
    "using namespace std;\n",
    "\n",
    "struct twod {\n",
    "    double **   base;\n",
    "    int         row_size, column_size;\n",
    "};\n",
    "\n",
    "void allocate (int r, int s, twod & m)\n",
    "{\n",
    "    m.base = new double * [s];\n",
    "    for (int i = 0; i < s; ++i)\n",
    "        m.base[i] = new double[r];\n",
    "    m.row_size = r;\n",
    "    m.column_size = s;\n",
    "}\n",
    "\n",
    "void deallocate(twod & m)\n",
    "{\n",
    "    for (int i = 0; i < m.column_size; ++i)\n",
    "        delete [] m.base[i];\n",
    "    delete [] m.base;\n",
    "    m.row_size = 0;\n",
    "    m.column_size = 0;\n",
    "}\n",
    "\n",
    "double find_max(const twod & m)\n",
    "{\n",
    "    int i, j;\n",
    "    double max = m.base[0][0];\n",
    "\n",
    "    for (i = 0; i < m.column_size; ++i)\n",
    "        for (j = 0; j < m.row_size; ++j)\n",
    "            if (m.base[i][j] > max)\n",
    "                max = m.base[i][j];\n",
    "    return (max);\n",
    "}\n",
    "\n",
    "int main ()\n",
    "{\n",
    "    twod    a, b;\n",
    "    int     i, j;\n",
    "\n",
    "    allocate(2, 3, a);\n",
    "    allocate(4, 6, b);\n",
    "\n",
    "    for (i = 0; i < a.column_size; ++i)\n",
    "        for (j = 0; j < b.row_size; ++j)\n",
    "            a.base[i][j] = i * j;\n",
    "    \n",
    "    for (i = 0; i < b.column_size; ++i)\n",
    "        for (j = 0; j < b.row_size; ++j)\n",
    "            b.base[i][j] = i * j;\n",
    "\n",
    "    cout << find_max(a) << \" max in size 2 * 3\\n\";\n",
    "    cout << find_max(b) << \" max in size 4 * 6\\n\";\n",
    "}\n",
    "```"
   ]
  },
  {
   "cell_type": "markdown",
   "id": "e7e2abf0-947f-407d-8084-28bf87186370",
   "metadata": {},
   "source": [
    "The above program is compiled and run using Gnu Compiler Collection (g++):"
   ]
  },
  {
   "cell_type": "code",
   "execution_count": 1,
   "id": "f091e74f-fca0-43fa-8114-1c526abb4f95",
   "metadata": {},
   "outputs": [],
   "source": [
    "import os\n",
    "root_dir = os.getcwd()"
   ]
  },
  {
   "cell_type": "code",
   "execution_count": 2,
   "id": "9836a2e4-d065-4ba0-928b-66a4e7cce418",
   "metadata": {},
   "outputs": [],
   "source": [
    "code_dir = root_dir + \"/\" + \"Cpp_Code/Chapter_4_8_Two_Dimensional_Dynamic_Arrays\""
   ]
  },
  {
   "cell_type": "code",
   "execution_count": 3,
   "id": "af912e98-7de3-40d7-8825-217493f6a66b",
   "metadata": {},
   "outputs": [],
   "source": [
    "os.chdir(code_dir)"
   ]
  },
  {
   "cell_type": "code",
   "execution_count": 9,
   "id": "a734c6b9-cf2b-455b-a921-40f7efc58bd2",
   "metadata": {},
   "outputs": [],
   "source": [
    "build_command = os.system(\"g++ array_2d.cpp -w -o array_2d\")"
   ]
  },
  {
   "cell_type": "code",
   "execution_count": 10,
   "id": "e58df301-ac7c-4090-bc7f-87caea2890fa",
   "metadata": {},
   "outputs": [
    {
     "name": "stdout",
     "output_type": "stream",
     "text": [
      "2 max in size 2 * 3\n",
      "15 max in size 4 * 6\n"
     ]
    }
   ],
   "source": [
    "exec_status = os.system(\"./array_2d\")"
   ]
  }
 ],
 "metadata": {
  "kernelspec": {
   "display_name": "Python 3 (ipykernel)",
   "language": "python",
   "name": "python3"
  },
  "language_info": {
   "codemirror_mode": {
    "name": "ipython",
    "version": 3
   },
   "file_extension": ".py",
   "mimetype": "text/x-python",
   "name": "python",
   "nbconvert_exporter": "python",
   "pygments_lexer": "ipython3",
   "version": "3.9.2"
  },
  "vscode": {
   "interpreter": {
    "hash": "916dbcbb3f70747c44a77c7bcd40155683ae19c65e1c03b4aa3499c5328201f1"
   }
  }
 },
 "nbformat": 4,
 "nbformat_minor": 5
}
