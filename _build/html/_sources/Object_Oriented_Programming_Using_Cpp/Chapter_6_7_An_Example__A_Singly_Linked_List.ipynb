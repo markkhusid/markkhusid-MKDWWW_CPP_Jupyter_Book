{
 "cells": [
  {
   "cell_type": "raw",
   "id": "15b484a3-b826-4b72-ad90-8fc090a94c25",
   "metadata": {},
   "source": [
    "---\n",
    "jupytext:\n",
    "  formats: md:myst\n",
    "  text_representation:\n",
    "    extension: .md\n",
    "    format_name: myst\n",
    "kernelspec:\n",
    "  display_name: Python 3\n",
    "  language: python\n",
    "  name: python3\n",
    "---"
   ]
  },
  {
   "cell_type": "markdown",
   "id": "4fae3c47-7ba5-411e-929d-45543f813a61",
   "metadata": {
    "tags": []
   },
   "source": [
    "# Chapter 6.7: An Example: A Singly Linked List"
   ]
  },
  {
   "cell_type": "markdown",
   "id": "da8da31b-2a7d-4e52-a914-442ca5a67839",
   "metadata": {},
   "source": [
    "Adapted from: \"Object-Oriented Programming Using C++\" by Ira Pohl (Addison - Wesley)"
   ]
  },
  {
   "cell_type": "markdown",
   "id": "6d7f6d49-ca5d-4d20-bf88-0bf99bdba5ea",
   "metadata": {},
   "source": [
    "## Program that demonstrates a singly linked list using classes in C++"
   ]
  },
  {
   "cell_type": "markdown",
   "id": "17067957",
   "metadata": {},
   "source": [
    "In file slist.cpp"
   ]
  },
  {
   "cell_type": "markdown",
   "id": "fae9a7ec-75a5-4a60-b10f-3b4693886d0c",
   "metadata": {},
   "source": [
    "```c++\n",
    "/*********************************************************************\n",
    "\n",
    "  Filename:  slist.cpp\n",
    "  Chapter:   6      Object Creation and Destruction\n",
    "  Section:   6.7    An Example:  A Singly Linked List\n",
    "  Compiler:  Borland C++     Version 5.0       Summer 1996\n",
    "  Object Oriented Programming Using C++, Edition 2   By Ira Pohl\n",
    "\n",
    "*********************************************************************/\n",
    "\n",
    "//A singly linked list\n",
    "\n",
    "#include <iostream>         // Changed iostream.h to iostream. MK.\n",
    "#include <assert.h>\n",
    "\n",
    "using namespace std;       // Added. MK.\n",
    "\n",
    "struct slistelem {\n",
    "   char       data;\n",
    "   slistelem*  next;\n",
    "};\n",
    "\n",
    "class slist { //a singly linked list\n",
    "public:\n",
    "   slist() : h(0) { };        //0 denotes empty slist\n",
    "   ~slist();                  // alternative { release(); }\n",
    "   void  prepend(char c);     //adds to front of slist\n",
    "   void  del();\n",
    "   slistelem*  first() const { return h; };\n",
    "   void  print() const;\n",
    "   void  release();\n",
    "private:\n",
    "   slistelem*  h;           //head of slist\n",
    "};\n",
    "\n",
    "\n",
    "void slist::prepend(char c)\n",
    "{\n",
    "   slistelem*  temp = new slistelem;//create element\n",
    "   assert(temp != 0);\n",
    "   temp -> next = h;                //link to slist\n",
    "   temp -> data = c;\n",
    "   h = temp;                 //update head of slist\n",
    "}\n",
    "\n",
    "void slist::del()\n",
    "{\n",
    "   slistelem*  temp = h;\n",
    "\n",
    "   h = h -> next;     //presumes an non-empty slist\n",
    "   delete temp;\n",
    "}\n",
    "\n",
    "void slist::print() const   //object is unchanged\n",
    "{\n",
    "   slistelem*  temp = h;\n",
    "\n",
    "   while (temp != 0) {     //detect end of slist\n",
    "      cout << temp -> data << \" -> \";\n",
    "      temp = temp -> next;\n",
    "   }\n",
    "   cout << \"\\n###\" << endl;\n",
    "}\n",
    "\n",
    "//elements returned to free store\n",
    "void slist::release()\n",
    "{\n",
    "   while (h != 0)\n",
    "      del();\n",
    "}\n",
    "\n",
    "slist:: ~slist()\n",
    "{\n",
    "   cout << \"destructor invoked\" << endl;\n",
    "   release();\n",
    "}\n",
    "\n",
    "int main()\n",
    "{\n",
    "   slist*  p;\n",
    "   {\n",
    "      slist  w;\n",
    "\n",
    "      w.prepend('A');\n",
    "      w.prepend('B');\n",
    "      w.print();\n",
    "      w.del();\n",
    "      w.print();\n",
    "      p = &w;\n",
    "      p -> print();\n",
    "      cout << \"exiting inner block\" << endl;\n",
    "   }\n",
    "   //p -> print();  gives system dependent behavior\n",
    "   cout << \"exiting outer block\" << endl;\n",
    "}\n",
    "```"
   ]
  },
  {
   "cell_type": "markdown",
   "id": "3e111038",
   "metadata": {},
   "source": [
    "## Compilation Process"
   ]
  },
  {
   "cell_type": "markdown",
   "id": "e7e2abf0-947f-407d-8084-28bf87186370",
   "metadata": {},
   "source": [
    "The above program is compiled and run using Gnu Compiler Collection (g++):"
   ]
  },
  {
   "cell_type": "code",
   "execution_count": 1,
   "id": "f091e74f-fca0-43fa-8114-1c526abb4f95",
   "metadata": {},
   "outputs": [],
   "source": [
    "import os\n",
    "root_dir = os.getcwd()"
   ]
  },
  {
   "cell_type": "code",
   "execution_count": 2,
   "id": "9836a2e4-d065-4ba0-928b-66a4e7cce418",
   "metadata": {},
   "outputs": [],
   "source": [
    "code_dir = root_dir + \"/\" + \\\n",
    "    \"Cpp_Code/Chapter_6_7_An_Example__A_Singly_Linked_List\""
   ]
  },
  {
   "cell_type": "code",
   "execution_count": 3,
   "id": "af912e98-7de3-40d7-8825-217493f6a66b",
   "metadata": {},
   "outputs": [],
   "source": [
    "os.chdir(code_dir)"
   ]
  },
  {
   "cell_type": "code",
   "execution_count": 4,
   "id": "a734c6b9-cf2b-455b-a921-40f7efc58bd2",
   "metadata": {},
   "outputs": [],
   "source": [
    "build_command = os.system(\"g++ slist.cpp -w -o slist\")"
   ]
  },
  {
   "cell_type": "markdown",
   "id": "999f33dc",
   "metadata": {},
   "source": [
    "## Execution Process"
   ]
  },
  {
   "cell_type": "code",
   "execution_count": 5,
   "id": "e58df301-ac7c-4090-bc7f-87caea2890fa",
   "metadata": {},
   "outputs": [
    {
     "name": "stdout",
     "output_type": "stream",
     "text": [
      "B -> A -> \n",
      "###\n",
      "A -> \n",
      "###\n",
      "A -> \n",
      "###\n",
      "exiting inner block\n",
      "destructor invoked\n",
      "exiting outer block\n"
     ]
    }
   ],
   "source": [
    "exec_status = os.system(\"./slist\")"
   ]
  }
 ],
 "metadata": {
  "kernelspec": {
   "display_name": "Python 3 (ipykernel)",
   "language": "python",
   "name": "python3"
  },
  "language_info": {
   "codemirror_mode": {
    "name": "ipython",
    "version": 3
   },
   "file_extension": ".py",
   "mimetype": "text/x-python",
   "name": "python",
   "nbconvert_exporter": "python",
   "pygments_lexer": "ipython3",
   "version": "3.9.2"
  },
  "vscode": {
   "interpreter": {
    "hash": "916dbcbb3f70747c44a77c7bcd40155683ae19c65e1c03b4aa3499c5328201f1"
   }
  }
 },
 "nbformat": 4,
 "nbformat_minor": 5
}
