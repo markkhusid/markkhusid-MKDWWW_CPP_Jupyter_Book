{
 "cells": [
  {
   "cell_type": "raw",
   "id": "15b484a3-b826-4b72-ad90-8fc090a94c25",
   "metadata": {},
   "source": [
    "---\n",
    "jupytext:\n",
    "  formats: md:myst\n",
    "  text_representation:\n",
    "    extension: .md\n",
    "    format_name: myst\n",
    "kernelspec:\n",
    "  display_name: Python 3\n",
    "  language: python\n",
    "  name: python3\n",
    "---"
   ]
  },
  {
   "attachments": {},
   "cell_type": "markdown",
   "id": "4fae3c47-7ba5-411e-929d-45543f813a61",
   "metadata": {
    "tags": []
   },
   "source": [
    "# Chapter 6.10: Strings Using Reference Semantics"
   ]
  },
  {
   "cell_type": "markdown",
   "id": "da8da31b-2a7d-4e52-a914-442ca5a67839",
   "metadata": {},
   "source": [
    "Adapted from: \"Object-Oriented Programming Using C++\" by Ira Pohl (Addison - Wesley)"
   ]
  },
  {
   "attachments": {},
   "cell_type": "markdown",
   "id": "6d7f6d49-ca5d-4d20-bf88-0bf99bdba5ea",
   "metadata": {},
   "source": [
    "## Program that demonstrates using linked lists to store strings with a reference counter in C++"
   ]
  },
  {
   "attachments": {},
   "cell_type": "markdown",
   "id": "17067957",
   "metadata": {},
   "source": [
    "In file string6.cpp"
   ]
  },
  {
   "attachments": {},
   "cell_type": "markdown",
   "id": "fae9a7ec-75a5-4a60-b10f-3b4693886d0c",
   "metadata": {},
   "source": [
    "```c++\n",
    "/*********************************************************************\n",
    "\n",
    "  Filename:  string6.cpp\n",
    "  Chapter:   6      Object Creation and Destruction\n",
    "  Section:   6.10   Strings Using Reference Semantics\n",
    "  Compiler:  Borland C++     Version 5.0       Summer 1996\n",
    "  Object Oriented Programming Using C++, Edition 2   By Ira Pohl\n",
    "\n",
    "*********************************************************************/\n",
    "\n",
    "//Reference counted my_strings\n",
    "#include  <iostream>\n",
    "#include  <assert.h>\n",
    "#include  <cstring>\n",
    "\n",
    "using namespace std;\n",
    "\n",
    "class str_obj {\n",
    "public:\n",
    "   int    len, ref_cnt;\n",
    "   char*  s;\n",
    "   str_obj() : len(0), ref_cnt(1)\n",
    "      { s = new char[1]; assert(s != 0); s[0] = 0; }\n",
    "   str_obj(const char* p) : ref_cnt(1)\n",
    "      { len = strlen(p); s = new char[len + 1];\n",
    "        assert(s != 0); strcpy(s, p); }\n",
    "   ~str_obj() { delete []s; }\n",
    "};\n",
    "\n",
    "class my_string {\n",
    "public:\n",
    "   my_string() { st = new str_obj; assert(st != 0);}\n",
    "   my_string(const char* p)\n",
    "      { st = new str_obj(p); assert(st != 0);}\n",
    "   my_string(const my_string& str)\n",
    "       { st = str.st; st -> ref_cnt++; }\n",
    "   ~my_string();\n",
    "   void  assign(const my_string& str);\n",
    "   void  print() const { cout << st -> s; }\n",
    "private:\n",
    "   str_obj*  st;\n",
    "};\n",
    "\n",
    "void my_string::assign(const my_string& str)\n",
    "{\n",
    "   if (str.st != st) {\n",
    "      if (--st -> ref_cnt == 0)\n",
    "         delete st;\n",
    "      st = str.st;\n",
    "      st -> ref_cnt++;\n",
    "   }\n",
    "}\n",
    "\n",
    "my_string:: ~my_string()\n",
    "{\n",
    "   if (--st -> ref_cnt == 0)\n",
    "      delete st;\n",
    "}\n",
    "\n",
    "int main()\n",
    "{\n",
    "   char*   str = \"The wheel that squeaks the loudest\\n\";\n",
    "   my_string  a(str), b ;\n",
    "\n",
    "   b.assign(\"Is the one that gets the grease\\n\");\n",
    "   cout << str << endl;\n",
    "   a.print();\n",
    "   b.print();\n",
    "}\n",
    "```"
   ]
  },
  {
   "cell_type": "markdown",
   "id": "3e111038",
   "metadata": {},
   "source": [
    "## Compilation Process"
   ]
  },
  {
   "cell_type": "markdown",
   "id": "e7e2abf0-947f-407d-8084-28bf87186370",
   "metadata": {},
   "source": [
    "The above program is compiled and run using Gnu Compiler Collection (g++):"
   ]
  },
  {
   "cell_type": "code",
   "execution_count": 1,
   "id": "f091e74f-fca0-43fa-8114-1c526abb4f95",
   "metadata": {},
   "outputs": [],
   "source": [
    "import os\n",
    "root_dir = os.getcwd()"
   ]
  },
  {
   "cell_type": "code",
   "execution_count": 2,
   "id": "9836a2e4-d065-4ba0-928b-66a4e7cce418",
   "metadata": {},
   "outputs": [],
   "source": [
    "code_dir = root_dir + \"/\" + \\\n",
    "    \"Cpp_Code/Chapter_6_10_Strings_Using_Reference_Semantics\""
   ]
  },
  {
   "cell_type": "code",
   "execution_count": 3,
   "id": "af912e98-7de3-40d7-8825-217493f6a66b",
   "metadata": {},
   "outputs": [],
   "source": [
    "os.chdir(code_dir)"
   ]
  },
  {
   "cell_type": "code",
   "execution_count": 5,
   "id": "a734c6b9-cf2b-455b-a921-40f7efc58bd2",
   "metadata": {},
   "outputs": [],
   "source": [
    "build_command = os.system(\"g++ string6.cpp -w -o string6\")"
   ]
  },
  {
   "cell_type": "markdown",
   "id": "999f33dc",
   "metadata": {},
   "source": [
    "## Execution Process"
   ]
  },
  {
   "cell_type": "code",
   "execution_count": 7,
   "id": "e58df301-ac7c-4090-bc7f-87caea2890fa",
   "metadata": {},
   "outputs": [
    {
     "name": "stdout",
     "output_type": "stream",
     "text": [
      "The wheel that squeaks the loudest\n",
      "\n",
      "The wheel that squeaks the loudest\n",
      "Is the one that gets the grease\n"
     ]
    }
   ],
   "source": [
    "exec_status = os.system(\"./string6\")"
   ]
  }
 ],
 "metadata": {
  "kernelspec": {
   "display_name": "Python 3 (ipykernel)",
   "language": "python",
   "name": "python3"
  },
  "language_info": {
   "codemirror_mode": {
    "name": "ipython",
    "version": 3
   },
   "file_extension": ".py",
   "mimetype": "text/x-python",
   "name": "python",
   "nbconvert_exporter": "python",
   "pygments_lexer": "ipython3",
   "version": "3.9.2 (default, Feb 28 2021, 17:03:44) \n[GCC 10.2.1 20210110]"
  },
  "vscode": {
   "interpreter": {
    "hash": "916dbcbb3f70747c44a77c7bcd40155683ae19c65e1c03b4aa3499c5328201f1"
   }
  }
 },
 "nbformat": 4,
 "nbformat_minor": 5
}
