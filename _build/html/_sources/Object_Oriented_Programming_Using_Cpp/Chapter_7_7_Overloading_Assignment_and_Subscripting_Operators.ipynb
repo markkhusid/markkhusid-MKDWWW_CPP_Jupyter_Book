{
 "cells": [
  {
   "cell_type": "raw",
   "id": "15b484a3-b826-4b72-ad90-8fc090a94c25",
   "metadata": {},
   "source": [
    "---\n",
    "jupytext:\n",
    "  formats: md:myst\n",
    "  text_representation:\n",
    "    extension: .md\n",
    "    format_name: myst\n",
    "kernelspec:\n",
    "  display_name: Python 3\n",
    "  language: python\n",
    "  name: python3\n",
    "---"
   ]
  },
  {
   "attachments": {},
   "cell_type": "markdown",
   "id": "4fae3c47-7ba5-411e-929d-45543f813a61",
   "metadata": {
    "tags": []
   },
   "source": [
    "# Chapter 7.7: Overloading Assignment and Subscripting Operators"
   ]
  },
  {
   "cell_type": "markdown",
   "id": "da8da31b-2a7d-4e52-a914-442ca5a67839",
   "metadata": {},
   "source": [
    "Adapted from: \"Object-Oriented Programming Using C++\" by Ira Pohl (Addison - Wesley)"
   ]
  },
  {
   "attachments": {},
   "cell_type": "markdown",
   "id": "6d7f6d49-ca5d-4d20-bf88-0bf99bdba5ea",
   "metadata": {},
   "source": [
    "## Program that demonstrates overloading assignment and subscripting operators in C++"
   ]
  },
  {
   "attachments": {},
   "cell_type": "markdown",
   "id": "17067957",
   "metadata": {},
   "source": [
    "In file vect2.cpp"
   ]
  },
  {
   "attachments": {},
   "cell_type": "markdown",
   "id": "ebaa7c39",
   "metadata": {},
   "source": [
    "```{literalinclude} Cpp_Code/Chapter_7_7_Overloading_Assignment_and_Subscripting_Operators/vect2.cpp\n",
    "---\n",
    "language: C++\n",
    "---\n",
    "```"
   ]
  },
  {
   "attachments": {},
   "cell_type": "markdown",
   "id": "a417fe12",
   "metadata": {},
   "source": [
    "In file vect2.h"
   ]
  },
  {
   "attachments": {},
   "cell_type": "markdown",
   "id": "ebaa7c39",
   "metadata": {},
   "source": [
    "```{literalinclude} Cpp_Code/Chapter_7_7_Overloading_Assignment_and_Subscripting_Operators/vect2.h\n",
    "---\n",
    "language: C++\n",
    "---\n",
    "```"
   ]
  },
  {
   "cell_type": "markdown",
   "id": "3e111038",
   "metadata": {},
   "source": [
    "## Compilation Process"
   ]
  },
  {
   "cell_type": "markdown",
   "id": "e7e2abf0-947f-407d-8084-28bf87186370",
   "metadata": {},
   "source": [
    "The above program is compiled and run using Gnu Compiler Collection (g++):"
   ]
  },
  {
   "cell_type": "code",
   "execution_count": 1,
   "id": "f091e74f-fca0-43fa-8114-1c526abb4f95",
   "metadata": {},
   "outputs": [],
   "source": [
    "import os\n",
    "root_dir = os.getcwd()"
   ]
  },
  {
   "cell_type": "code",
   "execution_count": 96,
   "id": "9836a2e4-d065-4ba0-928b-66a4e7cce418",
   "metadata": {},
   "outputs": [],
   "source": [
    "code_dir = root_dir + \"/\" + \\\n",
    "    \"Cpp_Code/Chapter_7_7_Overloading_Assignment_and_Subscripting_Operators\""
   ]
  },
  {
   "cell_type": "code",
   "execution_count": 97,
   "id": "af912e98-7de3-40d7-8825-217493f6a66b",
   "metadata": {},
   "outputs": [],
   "source": [
    "os.chdir(code_dir)"
   ]
  },
  {
   "cell_type": "code",
   "execution_count": 98,
   "id": "a734c6b9-cf2b-455b-a921-40f7efc58bd2",
   "metadata": {},
   "outputs": [],
   "source": [
    "build_command = os.system(\"g++ vect2.cpp -w -o vect2\")"
   ]
  },
  {
   "cell_type": "markdown",
   "id": "999f33dc",
   "metadata": {},
   "source": [
    "## Execution Process"
   ]
  },
  {
   "cell_type": "code",
   "execution_count": 99,
   "id": "e58df301-ac7c-4090-bc7f-87caea2890fa",
   "metadata": {},
   "outputs": [
    {
     "name": "stdout",
     "output_type": "stream",
     "text": [
      "The upper bound of vector a is : 9\n",
      "The upper bound of vector b is : 4\n",
      "The vector a contains : 0 1 2 3 4 5 6 7 8 9 \n",
      "The vector b contains : 0 0 0 0 0 \n",
      "Perform b = a (vect to vect assignment)...\n",
      "The vector b contains : 0 1 2 3 4 \n",
      "The vector c contains : 0 0 0 0 0 0 0 0 0 0 \n",
      "Perform c = b (vect to vect assignment)...\n",
      "The vector d contains : 0 0 0 0 0 0 0 0 0 0 0 0 0 0 0 0 0 0 0 0 \n",
      "\n",
      "Perform d = a + c (vect to vect addition)...\n",
      "The vector a contains : 0 1 2 3 4 5 6 7 8 9 \n",
      "The vector c contains : 0 1 2 3 4 0 0 0 0 0 \n",
      "The vector d contains : 0 2 4 6 8 5 6 7 8 9 0 0 0 0 0 0 0 0 0 0 \n",
      "\n",
      "The vector e_from_arr contains : 0 0 0 0 0 0 0 0 0 0 0 0 0 0 0 0 0 0 0 0 \n",
      "Initialize array arr...\n",
      "Array arr contains : \n",
      "10 11 12 13 14 15 16 17 18 19 20 21 22 23 24 25 26 27 28 29 Convert array arr into vect e_from_arr...\n",
      "The vector e_from_arr contains : 10 11 12 13 14 15 16 17 18 19 20 21 22 23 24 25 26 27 28 29 \n"
     ]
    }
   ],
   "source": [
    "exec_status = os.system(\"./vect2\")"
   ]
  },
  {
   "cell_type": "code",
   "execution_count": null,
   "id": "388df846",
   "metadata": {},
   "outputs": [],
   "source": []
  }
 ],
 "metadata": {
  "kernelspec": {
   "display_name": "Python 3 (ipykernel)",
   "language": "python",
   "name": "python3"
  },
  "language_info": {
   "codemirror_mode": {
    "name": "ipython",
    "version": 3
   },
   "file_extension": ".py",
   "mimetype": "text/x-python",
   "name": "python",
   "nbconvert_exporter": "python",
   "pygments_lexer": "ipython3",
   "version": "3.9.2"
  },
  "vscode": {
   "interpreter": {
    "hash": "916dbcbb3f70747c44a77c7bcd40155683ae19c65e1c03b4aa3499c5328201f1"
   }
  }
 },
 "nbformat": 4,
 "nbformat_minor": 5
}
