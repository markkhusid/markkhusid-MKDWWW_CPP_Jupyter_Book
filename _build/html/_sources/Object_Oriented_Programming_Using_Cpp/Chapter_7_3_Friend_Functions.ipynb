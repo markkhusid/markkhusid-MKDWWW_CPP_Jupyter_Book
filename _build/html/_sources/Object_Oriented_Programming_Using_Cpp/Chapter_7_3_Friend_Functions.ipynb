{
 "cells": [
  {
   "cell_type": "raw",
   "id": "15b484a3-b826-4b72-ad90-8fc090a94c25",
   "metadata": {},
   "source": [
    "---\n",
    "jupytext:\n",
    "  formats: md:myst\n",
    "  text_representation:\n",
    "    extension: .md\n",
    "    format_name: myst\n",
    "kernelspec:\n",
    "  display_name: Python 3\n",
    "  language: python\n",
    "  name: python3\n",
    "---"
   ]
  },
  {
   "attachments": {},
   "cell_type": "markdown",
   "id": "4fae3c47-7ba5-411e-929d-45543f813a61",
   "metadata": {
    "tags": []
   },
   "source": [
    "# Chapter 7.3: Friend Functions"
   ]
  },
  {
   "cell_type": "markdown",
   "id": "da8da31b-2a7d-4e52-a914-442ca5a67839",
   "metadata": {},
   "source": [
    "Adapted from: \"Object-Oriented Programming Using C++\" by Ira Pohl (Addison - Wesley)"
   ]
  },
  {
   "attachments": {},
   "cell_type": "markdown",
   "id": "6d7f6d49-ca5d-4d20-bf88-0bf99bdba5ea",
   "metadata": {},
   "source": [
    "## Program that demonstrates friend functions selection in C++"
   ]
  },
  {
   "attachments": {},
   "cell_type": "markdown",
   "id": "17067957",
   "metadata": {},
   "source": [
    "In file vect2.h"
   ]
  },
  {
   "attachments": {},
   "cell_type": "markdown",
   "id": "fae9a7ec-75a5-4a60-b10f-3b4693886d0c",
   "metadata": {},
   "source": [
    "```c++\n",
    "/*********************************************************************\n",
    "\n",
    "  Filename:  vect2.h\n",
    "  Chapter:   7      Ad Hoc Polymorphism\n",
    "  Section:   7.7    Friend Functions\n",
    "  Compiler:  Borland C++     Version 5.0       Summer 1996\n",
    "  Object Oriented Programming Using C++, Edition 2   By Ira Pohl\n",
    "\n",
    "*********************************************************************/\n",
    "\n",
    "class matrix;                 // forward reference\n",
    "\n",
    "#include  <iostream>         // Changed iostream.h to iostream. MK.\n",
    "#include  <assert.h>\n",
    "\n",
    "using namespace std;          // Added. MK.\n",
    "\n",
    "class vect {\n",
    "public:\n",
    "   vect() { size = 10; p = new int[size]; }\n",
    "   explicit vect(int n);\n",
    "   vect(const vect& v);\n",
    "   vect(const int a[], int n);  //initialize by array\n",
    "   ~vect() { delete []p; }\n",
    "   int  ub() const { return (size - 1); }  //upper bound\n",
    "   vect& operator=(const vect& v);  //overload assignment\n",
    "   void print() const;\n",
    "   int&  operator[](int i) ;         //range checked\n",
    "   vect operator+(const vect& v);\n",
    "private:\n",
    "   int*  p;\n",
    "   int   size;\n",
    "   friend vect mpy(const vect& v, const matrix& m);\n",
    "};\n",
    "\n",
    "vect::vect(int n) : size(n)\n",
    "{\n",
    "   assert(n > 0);\n",
    "   p = new int[size];\n",
    "   assert(p != 0);\n",
    "}\n",
    "\n",
    "vect::vect(const int a[], int n) : size(n)\n",
    "{\n",
    "   assert(n > 0);\n",
    "   p = new int[size];\n",
    "   assert(p != 0);\n",
    "   for (int i = 0; i < size; ++i)\n",
    "      p[i] = a[i];\n",
    "}\n",
    "\n",
    "vect::vect(const vect& v) : size(v.size)\n",
    "{\n",
    "   p = new int[size];\n",
    "   assert(p != 0);\n",
    "   for (int i = 0; i < size; ++i)\n",
    "      p[i] = v.p[i];\n",
    "}\n",
    "\n",
    "int& vect::operator[](int i)\n",
    "{\n",
    "   assert(i >= 0 && i < size);\n",
    "   return p[i];\n",
    "}\n",
    "\n",
    "vect& vect::operator=(const vect& v)\n",
    "{\n",
    "   int s = (size < v.size) ? size : v.size;\n",
    "\n",
    "   if (v.size != size)\n",
    "      cerr << \"copying different size arrays \"\n",
    "           << size << \" and \" << v.size << endl;\n",
    "   for (int i = 0; i < s; ++i)\n",
    "      p[i] = v.p[i];\n",
    "   return (*this);\n",
    "}\n",
    "\n",
    "\n",
    "void vect::print() const\n",
    "{\n",
    "   for (int i = 0; i <= (size-1); ++i)\n",
    "      cout << p[i] << \"\\t\";\n",
    "   cout << endl;\n",
    "}\n",
    "\n",
    "vect vect::operator+(const vect& v)\n",
    "{\n",
    "   assert(size == v.size);\n",
    "   vect  sum(size);\n",
    "   for (int i = 0; i < size; ++i)\n",
    "      sum.p[i] = p[i] + v.p[i];\n",
    "   return sum;\n",
    "}\n",
    "```"
   ]
  },
  {
   "attachments": {},
   "cell_type": "markdown",
   "id": "17067957",
   "metadata": {},
   "source": [
    "In file matrix2.cpp"
   ]
  },
  {
   "attachments": {},
   "cell_type": "markdown",
   "id": "fae9a7ec-75a5-4a60-b10f-3b4693886d0c",
   "metadata": {},
   "source": [
    "```c++\n",
    "/*********************************************************************\n",
    "\n",
    "  Filename:  matrix2.cpp\n",
    "  Chapter:   7      Ad Hoc Polymorphism\n",
    "  Section:   7.3    Friend Functions\n",
    "  Compiler:  Borland C++     Version 5.0       Summer 1996\n",
    "  Object Oriented Programming Using C++, Edition 2   By Ira Pohl\n",
    "\n",
    "*********************************************************************/\n",
    "\n",
    "class matrix;                 // forward reference\n",
    "\n",
    "#include  <iostream>        // Changed iostream.h to iostream. MK.\n",
    "#include  <assert.h>\n",
    "#include  \"vect2.h\"\n",
    "\n",
    "using namespace std;          // Added. MK.\n",
    "\n",
    "class matrix {\n",
    "public:\n",
    "   matrix(int d1, int d2);\n",
    "   ~matrix();\n",
    "   int  ub1() const { return(s1 - 1); }\n",
    "   int  ub2() const { return(s2 - 1); }\n",
    "   void print() const;\n",
    "   int&  element(int i, int j);\n",
    "private:\n",
    "   int**  p;\n",
    "   int    s1, s2;\n",
    "   friend    vect mpy(const vect& v, const matrix& m);\n",
    "};\n",
    "\n",
    "matrix::matrix(int d1, int d2) : s1(d1), s2(d2)\n",
    "{\n",
    "   assert (d1 > 0 && d2 > 0);\n",
    "   p = new int*[s1];\n",
    "   assert(p != 0);\n",
    "   for (int i = 0; i < s1; ++i)\n",
    "      p[i] = new int[s2];\n",
    "}\n",
    "\n",
    "matrix::~matrix()\n",
    "{\n",
    "   for (int i = 0; i <= ub1(); ++i)\n",
    "      delete p[i];\n",
    "   delete []p;\n",
    "}\n",
    "\n",
    "int& matrix::element(int i, int j)\n",
    "{\n",
    "   assert(i >= 0 || i <= ub1() || j >= 0 || j <= ub2());\n",
    "   return p[i][j];\n",
    "}\n",
    "\n",
    "\n",
    "vect mpy(const vect& v, const matrix& m)\n",
    "{\n",
    "   assert(v.size == m.s1);    //check sizes\n",
    "   //use privileged access to p in both classes\n",
    "   vect  ans(m.s2);\n",
    "   int   i, j;\n",
    "\n",
    "   for (i = 0; i <= m.ub2(); ++i) {\n",
    "      ans.p[i] = 0;\n",
    "      for (j = 0; j <= m.ub1(); ++j)\n",
    "         ans.p[i] += v.p[j] * m.p[j][i];\n",
    "   }\n",
    "   return ans;\n",
    "}\n",
    "\n",
    "void matrix::print() const\n",
    "{\n",
    "   int j;\n",
    "   for (int i = 0; i <= ub1(); ++i) {\n",
    "      cout << \"\\nrow  \" << (i + 1) << endl;\n",
    "      for (j = 0; j <= ub2(); ++j)\n",
    "         cout << p[i][j] << \"\\t\";\n",
    "   }\n",
    "   cout << endl;\n",
    "}\n",
    "\n",
    "\n",
    "void init_vect(vect& v, int start, int incr)\n",
    "{\n",
    "   for (int i = 0; i <= v.ub(); ++i) {\n",
    "      v[i] = start;\n",
    "      start += incr;\n",
    "   }\n",
    "}\n",
    "\n",
    "int main()\n",
    "{\n",
    "   vect   a(3), b(3), c(6), d(6);\n",
    "   matrix m(3, 6) ;\n",
    "   int    i, j;\n",
    "\n",
    "   a[0] = 1 + (a[1] = 1 + ( a[2] = 1)) ;\n",
    "   init_vect(b, 1, 1);\n",
    "   init_vect(c, 10, 10);\n",
    "   init_vect(d, 100, 1);\n",
    "\n",
    "   cout << \"vector a is\\n\";\n",
    "   a.print();\n",
    "   cout << \"\\nvector b is\\n\";\n",
    "   b.print();\n",
    "   cout << \"\\nvector c is\\n\";\n",
    "   c.print();\n",
    "   cout << \"\\nvector d is\\n\";\n",
    "   d.print();\n",
    "\n",
    "   for (i = 0; i <= m.ub1(); ++i)\n",
    "      for (j = 0; j <= m.ub2(); ++j)\n",
    "         m.element(i, j) = i + j;\n",
    "\n",
    "   cout << \"\\nmatrix m is\\n\";\n",
    "   m.print();\n",
    "\n",
    "   c = mpy(a, m);\n",
    "   cout << \"\\nvector c product is\\n\";\n",
    "   c.print();\n",
    "}\n",
    "```"
   ]
  },
  {
   "cell_type": "markdown",
   "id": "3e111038",
   "metadata": {},
   "source": [
    "## Compilation Process"
   ]
  },
  {
   "cell_type": "markdown",
   "id": "e7e2abf0-947f-407d-8084-28bf87186370",
   "metadata": {},
   "source": [
    "The above program is compiled and run using Gnu Compiler Collection (g++):"
   ]
  },
  {
   "cell_type": "code",
   "execution_count": 1,
   "id": "f091e74f-fca0-43fa-8114-1c526abb4f95",
   "metadata": {},
   "outputs": [],
   "source": [
    "import os\n",
    "root_dir = os.getcwd()"
   ]
  },
  {
   "cell_type": "code",
   "execution_count": 3,
   "id": "9836a2e4-d065-4ba0-928b-66a4e7cce418",
   "metadata": {},
   "outputs": [],
   "source": [
    "code_dir = root_dir + \"/\" + \\\n",
    "    \"Cpp_Code/Chapter_7_3_Friend_Functions\""
   ]
  },
  {
   "cell_type": "code",
   "execution_count": 4,
   "id": "af912e98-7de3-40d7-8825-217493f6a66b",
   "metadata": {},
   "outputs": [],
   "source": [
    "os.chdir(code_dir)"
   ]
  },
  {
   "cell_type": "code",
   "execution_count": 7,
   "id": "a734c6b9-cf2b-455b-a921-40f7efc58bd2",
   "metadata": {},
   "outputs": [],
   "source": [
    "build_command = os.system(\"g++ matrix2.cpp -w -o matrix2\")"
   ]
  },
  {
   "cell_type": "markdown",
   "id": "999f33dc",
   "metadata": {},
   "source": [
    "## Execution Process"
   ]
  },
  {
   "cell_type": "code",
   "execution_count": 8,
   "id": "e58df301-ac7c-4090-bc7f-87caea2890fa",
   "metadata": {},
   "outputs": [
    {
     "name": "stdout",
     "output_type": "stream",
     "text": [
      "vector a is\n",
      "3\t2\t1\t\n",
      "\n",
      "vector b is\n",
      "1\t2\t3\t\n",
      "\n",
      "vector c is\n",
      "10\t20\t30\t40\t50\t60\t\n",
      "\n",
      "vector d is\n",
      "100\t101\t102\t103\t104\t105\t\n",
      "\n",
      "matrix m is\n",
      "\n",
      "row  1\n",
      "0\t1\t2\t3\t4\t5\t\n",
      "row  2\n",
      "1\t2\t3\t4\t5\t6\t\n",
      "row  3\n",
      "2\t3\t4\t5\t6\t7\t\n",
      "\n",
      "vector c product is\n",
      "4\t10\t16\t22\t28\t34\t\n"
     ]
    }
   ],
   "source": [
    "exec_status = os.system(\"./matrix2\")"
   ]
  }
 ],
 "metadata": {
  "kernelspec": {
   "display_name": "Python 3 (ipykernel)",
   "language": "python",
   "name": "python3"
  },
  "language_info": {
   "codemirror_mode": {
    "name": "ipython",
    "version": 3
   },
   "file_extension": ".py",
   "mimetype": "text/x-python",
   "name": "python",
   "nbconvert_exporter": "python",
   "pygments_lexer": "ipython3",
   "version": "3.9.2"
  },
  "vscode": {
   "interpreter": {
    "hash": "916dbcbb3f70747c44a77c7bcd40155683ae19c65e1c03b4aa3499c5328201f1"
   }
  }
 },
 "nbformat": 4,
 "nbformat_minor": 5
}
