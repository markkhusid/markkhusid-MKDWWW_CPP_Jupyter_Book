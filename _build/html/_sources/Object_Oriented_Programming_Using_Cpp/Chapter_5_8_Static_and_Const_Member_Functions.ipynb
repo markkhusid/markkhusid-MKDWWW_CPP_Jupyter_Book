{
 "cells": [
  {
   "cell_type": "raw",
   "id": "15b484a3-b826-4b72-ad90-8fc090a94c25",
   "metadata": {},
   "source": [
    "---\n",
    "jupytext:\n",
    "  formats: md:myst\n",
    "  text_representation:\n",
    "    extension: .md\n",
    "    format_name: myst\n",
    "kernelspec:\n",
    "  display_name: Python 3\n",
    "  language: python\n",
    "  name: python3\n",
    "---"
   ]
  },
  {
   "cell_type": "markdown",
   "id": "4fae3c47-7ba5-411e-929d-45543f813a61",
   "metadata": {
    "tags": []
   },
   "source": [
    "# **STATIC** and **CONST** Member Functions"
   ]
  },
  {
   "cell_type": "markdown",
   "id": "da8da31b-2a7d-4e52-a914-442ca5a67839",
   "metadata": {},
   "source": [
    "Adapted from: \"Object-Oriented Programming Using C++\" by Ira Pohl (Addison- Wesley)"
   ]
  },
  {
   "cell_type": "markdown",
   "id": "6d7f6d49-ca5d-4d20-bf88-0bf99bdba5ea",
   "metadata": {},
   "source": [
    "## Program that demonstrates the **STATIC** and **CONST** member functions in C++"
   ]
  },
  {
   "cell_type": "markdown",
   "id": "fae9a7ec-75a5-4a60-b10f-3b4693886d0c",
   "metadata": {},
   "source": [
    "```c++\n",
    "#include <iostream>\n",
    "\n",
    "using namespace std;\n",
    "\n",
    "// Calculate salary using static members\n",
    "class salary {\n",
    "public:\n",
    "    void init(int b) {\n",
    "        b_sal = b;\n",
    "        your_bonus = 0;\n",
    "    }\n",
    "\n",
    "    void calc_bonus(double perc) {\n",
    "        your_bonus = b_sal * perc;\n",
    "    }\n",
    "\n",
    "    static void reset_all(int p) {\n",
    "        all_bonus = p;\n",
    "    }\n",
    "\n",
    "    int comp_tot() const {\n",
    "        return (b_sal + your_bonus + all_bonus);\n",
    "    }\n",
    "\n",
    "private:\n",
    "    int         b_sal;\n",
    "    int         your_bonus;\n",
    "    static int  all_bonus;      // declaration\n",
    "};\n",
    "\n",
    "// declaration and definition\n",
    "int salary::all_bonus = 100;\n",
    "\n",
    "int main() {\n",
    "    salary w1, w2;\n",
    "\n",
    "    w1.init(1000);\n",
    "    w2.init(2000);\n",
    "\n",
    "    w1.calc_bonus(0.2);\n",
    "    w2.calc_bonus(0.15);\n",
    "\n",
    "    salary::reset_all(400);\n",
    "\n",
    "    cout    << \" w1 \"\n",
    "            << w1.comp_tot() \n",
    "            << \" w2 \" \n",
    "            << w2.comp_tot() \n",
    "            << endl;\n",
    "}\n",
    "```"
   ]
  },
  {
   "cell_type": "markdown",
   "id": "e7e2abf0-947f-407d-8084-28bf87186370",
   "metadata": {},
   "source": [
    "The above program is compiled and run using Gnu Compiler Collection (g++):"
   ]
  },
  {
   "cell_type": "code",
   "execution_count": 1,
   "id": "f091e74f-fca0-43fa-8114-1c526abb4f95",
   "metadata": {},
   "outputs": [],
   "source": [
    "import os\n",
    "root_dir = os.getcwd()"
   ]
  },
  {
   "cell_type": "code",
   "execution_count": 2,
   "id": "9836a2e4-d065-4ba0-928b-66a4e7cce418",
   "metadata": {},
   "outputs": [],
   "source": [
    "code_dir = root_dir + \"/\" + \"Cpp_Code/Chapter_5_8_Static_and_Const_Member_Functions\""
   ]
  },
  {
   "cell_type": "code",
   "execution_count": 3,
   "id": "af912e98-7de3-40d7-8825-217493f6a66b",
   "metadata": {},
   "outputs": [],
   "source": [
    "os.chdir(code_dir)"
   ]
  },
  {
   "cell_type": "code",
   "execution_count": 4,
   "id": "a734c6b9-cf2b-455b-a921-40f7efc58bd2",
   "metadata": {},
   "outputs": [],
   "source": [
    "build_command = os.system(\"g++ salary.cpp -w -o salary\")"
   ]
  },
  {
   "cell_type": "code",
   "execution_count": 5,
   "id": "e58df301-ac7c-4090-bc7f-87caea2890fa",
   "metadata": {},
   "outputs": [
    {
     "name": "stdout",
     "output_type": "stream",
     "text": [
      " w1 1600 w2 2700\n"
     ]
    }
   ],
   "source": [
    "exec_status = os.system(\"./salary\")"
   ]
  }
 ],
 "metadata": {
  "kernelspec": {
   "display_name": "Python 3 (ipykernel)",
   "language": "python",
   "name": "python3"
  },
  "language_info": {
   "codemirror_mode": {
    "name": "ipython",
    "version": 3
   },
   "file_extension": ".py",
   "mimetype": "text/x-python",
   "name": "python",
   "nbconvert_exporter": "python",
   "pygments_lexer": "ipython3",
   "version": "3.9.2"
  },
  "vscode": {
   "interpreter": {
    "hash": "916dbcbb3f70747c44a77c7bcd40155683ae19c65e1c03b4aa3499c5328201f1"
   }
  }
 },
 "nbformat": 4,
 "nbformat_minor": 5
}
