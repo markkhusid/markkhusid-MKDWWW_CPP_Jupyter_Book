{
 "cells": [
  {
   "cell_type": "raw",
   "id": "15b484a3-b826-4b72-ad90-8fc090a94c25",
   "metadata": {},
   "source": [
    "---\n",
    "jupytext:\n",
    "  formats: md:myst\n",
    "  text_representation:\n",
    "    extension: .md\n",
    "    format_name: myst\n",
    "kernelspec:\n",
    "  display_name: Python 3\n",
    "  language: python\n",
    "  name: python3\n",
    "---"
   ]
  },
  {
   "attachments": {},
   "cell_type": "markdown",
   "id": "4fae3c47-7ba5-411e-929d-45543f813a61",
   "metadata": {
    "tags": []
   },
   "source": [
    "# Chapter 6.9: Polynomials as a Linked List"
   ]
  },
  {
   "cell_type": "markdown",
   "id": "da8da31b-2a7d-4e52-a914-442ca5a67839",
   "metadata": {},
   "source": [
    "Adapted from: \"Object-Oriented Programming Using C++\" by Ira Pohl (Addison - Wesley)"
   ]
  },
  {
   "attachments": {},
   "cell_type": "markdown",
   "id": "6d7f6d49-ca5d-4d20-bf88-0bf99bdba5ea",
   "metadata": {},
   "source": [
    "## Program that demonstrates using linked lists to store polynominals in C++"
   ]
  },
  {
   "attachments": {},
   "cell_type": "markdown",
   "id": "17067957",
   "metadata": {},
   "source": [
    "In file poly1.cpp"
   ]
  },
  {
   "attachments": {},
   "cell_type": "markdown",
   "id": "fae9a7ec-75a5-4a60-b10f-3b4693886d0c",
   "metadata": {},
   "source": [
    "```c++\n",
    "/*********************************************************************\n",
    "\n",
    "  Filename:  poly1.cpp\n",
    "  Chapter:   6      Object Creation and Destruction\n",
    "  Section:   6.9    Polynomial as a Linked List\n",
    "  Compiler:  Borland C++     Version 5.0       Summer 1996\n",
    "  Object Oriented Programming Using C++, Edition 2   By Ira Pohl\n",
    "\n",
    "*********************************************************************/\n",
    "\n",
    "//A polynomial represented as a singly linked list\n",
    "\n",
    "#include <assert.h>\n",
    "#include <iostream>\n",
    "#include <stdlib.h>\n",
    "#include <stdio.h>\n",
    "\n",
    "using namespace std;\n",
    "\n",
    "//A polynomial represented as a singly linked list\n",
    "struct term {\n",
    "   int        exponent;\n",
    "   double     coefficient;\n",
    "   term*      next;\n",
    "   term(int e, double c, term* n = 0)\n",
    "       : exponent(e), coefficient(c), next(n) { }\n",
    "   void print()\n",
    "     {cout << coefficient << \"x^\" << exponent << \" \";}\n",
    "};\n",
    "\n",
    "class polynomial {\n",
    "public:\n",
    "   polynomial(): h(0), degree(0) { }\n",
    "   polynomial(const polynomial& p);\n",
    "   polynomial(int size, double coef[], int expon[]);\n",
    "   ~polynomial() { release(); }\n",
    "   void print() const;\n",
    "   void plus(polynomial a, polynomial b);\n",
    "private:\n",
    "   term*   h;\n",
    "   int     degree;\n",
    "   void    prepend(term*  t);   //add term to front\n",
    "   void    add_term(term*& a, term*& b);\n",
    "   void    release();           //garbage collect\n",
    "   void    rest_of(term* rest); //add remaining terms\n",
    "   void    reverse();           //reverse terms\n",
    "};\n",
    "\n",
    "void polynomial::reverse()       //in place\n",
    "{\n",
    "   term*  pred, *succ, *elem;\n",
    "\n",
    "   if (h && (succ = h -> next)) {\n",
    "      pred = 0;\n",
    "      elem = h;\n",
    "      while (succ) {\n",
    "         elem -> next = pred;\n",
    "         pred = elem;\n",
    "         elem = succ;\n",
    "         succ = succ -> next;\n",
    "      }\n",
    "      h = elem;\n",
    "      h -> next = pred;\n",
    "   }\n",
    "}\n",
    "\n",
    "void polynomial::release()\n",
    "{\n",
    "   term* temp = h;\n",
    "\n",
    "   if (h) {  h = h -> next; delete temp; release(); }\n",
    "\n",
    "\n",
    "}\n",
    "\n",
    "inline void polynomial::prepend(term*t)\n",
    "{\n",
    "    t -> next = h;\n",
    "     h = t;\n",
    "}\n",
    "\n",
    "\n",
    "void polynomial::print() const\n",
    "{\n",
    "   term* temp = h;\n",
    "\n",
    "   if (h == 0) { cout << \"0\\n\"; return; }\n",
    "   while (temp){ temp -> print(); temp = temp -> next; }\n",
    "   cout << endl;\n",
    "}\n",
    "//assumes ordering is correct expon[i] < expon[i+1]\n",
    "polynomial::polynomial(int size, double coef[],\n",
    "                       int expon[])\n",
    "{\n",
    "   term* temp = new term(expon[0], coef[0]);\n",
    "   assert(temp != 0);\n",
    "\n",
    "   h = 0;\n",
    "   prepend(temp);               //create initial term\n",
    "   for (int i = 1; i < size; ++i) {\n",
    "       assert(expon[i - 1] < expon[i]);\n",
    "       temp = new term(expon[i], coef[i]);\n",
    "       assert(temp != 0);\n",
    "       prepend(temp);          //add term\n",
    "   }\n",
    "   degree = h -> exponent;\n",
    "}\n",
    "\n",
    "polynomial::polynomial(const polynomial& p) :\n",
    "                       degree(p.degree)\n",
    "{\n",
    "   term* elem = p.h, *temp;\n",
    "\n",
    "   h = 0;\n",
    "   while (elem) {              //term by term copying\n",
    "      temp = new term(elem -> exponent,\n",
    "                      elem -> coefficient);\n",
    "      assert(temp != 0);\n",
    "      prepend(temp);\n",
    "      elem = elem -> next;\n",
    "   }\n",
    "   reverse();\n",
    "}\n",
    "\n",
    "void polynomial::add_term(term*& a, term*& b)\n",
    "{\n",
    "   term*  c;\n",
    "\n",
    "   if (a -> exponent > b -> exponent) { //add a\n",
    "      c = new term(a -> exponent, a -> coefficient) ;\n",
    "      assert(c != 0);\n",
    "      a = a -> next;\n",
    "      prepend(c);\n",
    "   }\n",
    "   else if (a -> exponent < b -> exponent){ //add b\n",
    "      c = new term(b -> exponent, b -> coefficient) ;\n",
    "      assert(c != 0);\n",
    "      b = b -> next;\n",
    "      prepend(c);\n",
    "   }\n",
    "    else { //check on cancellation\n",
    "       if (a -> coefficient + b -> coefficient != 0) {\n",
    "           c = new term( a -> exponent,\n",
    "                a -> coefficient + b -> coefficient);\n",
    "           assert(c != 0);\n",
    "           prepend(c);\n",
    "        }\n",
    "        a = a -> next;\n",
    "        b = b -> next;\n",
    "    }\n",
    "}\n",
    "\n",
    "void polynomial::rest_of(term* rest)\n",
    "{\n",
    "   term* temp;\n",
    "\n",
    "   while (rest) {\n",
    "      temp  = new term(rest -> exponent,\n",
    "                       rest -> coefficient);\n",
    "      assert(temp != 0);\n",
    "      prepend(temp);\n",
    "      rest = rest -> next;\n",
    "   }\n",
    "}\n",
    "\n",
    "//c.plus(a,b) means c = a + b;\n",
    "void polynomial::plus(polynomial a, polynomial b)\n",
    "{\n",
    "   term*    aterm = a.h, *bterm = b.h;\n",
    "\n",
    "   release();  //garbage collect c, assumes not a or b\n",
    "   h = 0;\n",
    "   while (aterm && bterm)     //merge step\n",
    "      add_term(aterm, bterm);\n",
    "   if (aterm)\n",
    "      rest_of(aterm);\n",
    "   else if (bterm)\n",
    "      rest_of(bterm);\n",
    "   reverse();\n",
    "   degree = ((h) ? h -> exponent: 0);\n",
    "}\n",
    "\n",
    "double coef[4] = {1, 2, 3, 4};\n",
    "double coef2[4] = {-1,-2, -3, -4};\n",
    "int    expo[4] = {0, 4, 14, 45};\n",
    "\n",
    "main()\n",
    "{\n",
    "   polynomial p(4, coef2,expo), q(4,coef,expo), s;\n",
    "\n",
    "   cout << \"P(x) = \";\n",
    "   p.print();\n",
    "   cout << \"Q(x) = \";\n",
    "   q.print();\n",
    "   s.plus(q,q);\n",
    "   cout << \"S(x) = Q(x) + Q(x) = \";\n",
    "   s.print();\n",
    "   s.plus(p, q);\n",
    "   cout << \"S(x) = P(x) + Q(x) = \";\n",
    "   s.print();\n",
    "}\n",
    "```"
   ]
  },
  {
   "cell_type": "markdown",
   "id": "3e111038",
   "metadata": {},
   "source": [
    "## Compilation Process"
   ]
  },
  {
   "cell_type": "markdown",
   "id": "e7e2abf0-947f-407d-8084-28bf87186370",
   "metadata": {},
   "source": [
    "The above program is compiled and run using Gnu Compiler Collection (g++):"
   ]
  },
  {
   "cell_type": "code",
   "execution_count": 1,
   "id": "f091e74f-fca0-43fa-8114-1c526abb4f95",
   "metadata": {},
   "outputs": [],
   "source": [
    "import os\n",
    "root_dir = os.getcwd()"
   ]
  },
  {
   "cell_type": "code",
   "execution_count": 2,
   "id": "9836a2e4-d065-4ba0-928b-66a4e7cce418",
   "metadata": {},
   "outputs": [],
   "source": [
    "code_dir = root_dir + \"/\" + \\\n",
    "    \"Cpp_Code/Chapter_6_9_Polynomials_as_a_Linked_List\""
   ]
  },
  {
   "cell_type": "code",
   "execution_count": 3,
   "id": "af912e98-7de3-40d7-8825-217493f6a66b",
   "metadata": {},
   "outputs": [],
   "source": [
    "os.chdir(code_dir)"
   ]
  },
  {
   "cell_type": "code",
   "execution_count": 6,
   "id": "a734c6b9-cf2b-455b-a921-40f7efc58bd2",
   "metadata": {},
   "outputs": [],
   "source": [
    "build_command = os.system(\"g++ poly1.cpp -w -o poly1\")"
   ]
  },
  {
   "cell_type": "markdown",
   "id": "999f33dc",
   "metadata": {},
   "source": [
    "## Execution Process"
   ]
  },
  {
   "cell_type": "code",
   "execution_count": 7,
   "id": "e58df301-ac7c-4090-bc7f-87caea2890fa",
   "metadata": {},
   "outputs": [
    {
     "name": "stdout",
     "output_type": "stream",
     "text": [
      "P(x) = -4x^45 -3x^14 -2x^4 -1x^0 \n",
      "Q(x) = 4x^45 3x^14 2x^4 1x^0 \n",
      "S(x) = Q(x) + Q(x) = 8x^45 6x^14 4x^4 2x^0 \n",
      "S(x) = P(x) + Q(x) = 0\n"
     ]
    }
   ],
   "source": [
    "exec_status = os.system(\"./poly1\")"
   ]
  }
 ],
 "metadata": {
  "kernelspec": {
   "display_name": "Python 3 (ipykernel)",
   "language": "python",
   "name": "python3"
  },
  "language_info": {
   "codemirror_mode": {
    "name": "ipython",
    "version": 3
   },
   "file_extension": ".py",
   "mimetype": "text/x-python",
   "name": "python",
   "nbconvert_exporter": "python",
   "pygments_lexer": "ipython3",
   "version": "3.9.2"
  },
  "vscode": {
   "interpreter": {
    "hash": "916dbcbb3f70747c44a77c7bcd40155683ae19c65e1c03b4aa3499c5328201f1"
   }
  }
 },
 "nbformat": 4,
 "nbformat_minor": 5
}
