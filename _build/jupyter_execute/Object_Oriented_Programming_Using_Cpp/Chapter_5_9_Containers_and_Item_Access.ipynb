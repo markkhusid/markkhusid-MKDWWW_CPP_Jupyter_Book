{
 "cells": [
  {
   "cell_type": "raw",
   "id": "15b484a3-b826-4b72-ad90-8fc090a94c25",
   "metadata": {},
   "source": [
    "---\n",
    "jupytext:\n",
    "  formats: md:myst\n",
    "  text_representation:\n",
    "    extension: .md\n",
    "    format_name: myst\n",
    "kernelspec:\n",
    "  display_name: Python 3\n",
    "  language: python\n",
    "  name: python3\n",
    "---"
   ]
  },
  {
   "cell_type": "markdown",
   "id": "4fae3c47-7ba5-411e-929d-45543f813a61",
   "metadata": {
    "tags": []
   },
   "source": [
    "# Containers and Item Access"
   ]
  },
  {
   "cell_type": "markdown",
   "id": "da8da31b-2a7d-4e52-a914-442ca5a67839",
   "metadata": {},
   "source": [
    "Adapted from: \"Object-Oriented Programming Using C++\" by Ira Pohl (Addison- Wesley)"
   ]
  },
  {
   "cell_type": "markdown",
   "id": "6d7f6d49-ca5d-4d20-bf88-0bf99bdba5ea",
   "metadata": {},
   "source": [
    "## Program that demonstrates containers and item access in C++"
   ]
  },
  {
   "cell_type": "markdown",
   "id": "fae9a7ec-75a5-4a60-b10f-3b4693886d0c",
   "metadata": {},
   "source": [
    "```c++\n",
    "// Dynamic arrays in two dimensions\n",
    "#include <iostream>\n",
    "using namespace std;\n",
    "\n",
    "class twod {\n",
    "public:\n",
    "    bool    allocate(int r, int s);    // pseudo - constructor\n",
    "    \n",
    "    void    deallocate();              // pseudo - destructor\n",
    "    \n",
    "    double& element_lval(int i, int j) const\n",
    "        { return base[i][j]; }\n",
    "    \n",
    "    double  element_rval(int i, int j) const\n",
    "        { return base[i][j]; }\n",
    "    \n",
    "    int     r_size() const { return row_size;    }\n",
    "    int     c_size() const { return column_size; }\n",
    "\n",
    "private:\n",
    "    double**    base;\n",
    "    int         row_size, column_size;\n",
    "};\n",
    "\n",
    "bool twod::allocate(int r, int s)\n",
    "{\n",
    "    base = new double*[s];\n",
    "    if (base == 0)  // allocation failed\n",
    "        return false;\n",
    "    for (int i = 0; i < s; ++i) {\n",
    "        base[i] = new double[r];\n",
    "        if (base[i] == 0)   // allocation failed\n",
    "            return false;\n",
    "    }\n",
    "    row_size = r;\n",
    "    column_size = s;\n",
    "    return true;\n",
    "}\n",
    "\n",
    "void twod::deallocate()\n",
    "{\n",
    "    for (int i = 0; i < column_size; ++i)\n",
    "        delete [] base[i];\n",
    "    delete [] base;\n",
    "    row_size = 0;\n",
    "    column_size = 0;\n",
    "}\n",
    "\n",
    "double find_max(const twod& m)\n",
    "{\n",
    "    int i, j;\n",
    "    double max = m.element_rval(0,0);\n",
    "\n",
    "    for (i = 0; i < m.c_size(); ++i)\n",
    "        for (j = 0; j < m.r_size(); ++j)\n",
    "            if (m.element_rval(i, j) > max)\n",
    "                max = m.element_rval(i, j);\n",
    "    return max;\n",
    "}\n",
    "\n",
    "void print_2d(twod& m)\n",
    "{\n",
    "    int i, j;\n",
    "\n",
    "    for (i = 0; i < m.c_size(); ++i) {\n",
    "        for (j = 0; j < m.r_size(); ++j)\n",
    "            cout << m.element_rval(i, j) << \" \";\n",
    "        cout << \"\\n\";\n",
    "    }\n",
    "}\n",
    "\n",
    "int main ()\n",
    "{\n",
    "    twod    a, b;\n",
    "    int     i, j;\n",
    "\n",
    "    a.allocate(2, 3);\n",
    "    b.allocate(4, 6);\n",
    "\n",
    "    for (i = 0; i < a.c_size(); ++i)\n",
    "        for (j = 0; j < b.r_size(); ++j)\n",
    "            a.element_lval(i, j) = i * j;\n",
    "    \n",
    "    for (i = 0; i < b.c_size(); ++i)\n",
    "        for (j = 0; j < b.r_size(); ++j)\n",
    "            b.element_lval(i, j) = i * j;\n",
    "\n",
    "    cout << \"\\n\\nPrinting 3x2 matrix A...\\n\";\n",
    "    print_2d(a);\n",
    "    cout << \"\\n\\nPrinting 6x4 matrix B...\\n\";\n",
    "    print_2d(b);\n",
    "    cout << \"\\nMax element in size 3x2 matrix A is -> \" << find_max(a) << endl;\n",
    "    cout << \"\\nMax element in size 6x4 matrix B is -> \" << find_max(b) << endl;\n",
    "}\n",
    "```"
   ]
  },
  {
   "cell_type": "markdown",
   "id": "e7e2abf0-947f-407d-8084-28bf87186370",
   "metadata": {},
   "source": [
    "The above program is compiled and run using Gnu Compiler Collection (g++):"
   ]
  },
  {
   "cell_type": "code",
   "execution_count": 1,
   "id": "f091e74f-fca0-43fa-8114-1c526abb4f95",
   "metadata": {},
   "outputs": [],
   "source": [
    "import os\n",
    "root_dir = os.getcwd()"
   ]
  },
  {
   "cell_type": "code",
   "execution_count": 2,
   "id": "9836a2e4-d065-4ba0-928b-66a4e7cce418",
   "metadata": {},
   "outputs": [],
   "source": [
    "code_dir = root_dir + \"/\" + \"Cpp_Code/Chapter_5_9_Containers_and_Item_Access\""
   ]
  },
  {
   "cell_type": "code",
   "execution_count": 3,
   "id": "af912e98-7de3-40d7-8825-217493f6a66b",
   "metadata": {},
   "outputs": [],
   "source": [
    "os.chdir(code_dir)"
   ]
  },
  {
   "cell_type": "code",
   "execution_count": 4,
   "id": "a734c6b9-cf2b-455b-a921-40f7efc58bd2",
   "metadata": {},
   "outputs": [],
   "source": [
    "build_command = os.system(\"g++ twod.cpp -w -o twod\")"
   ]
  },
  {
   "cell_type": "code",
   "execution_count": 5,
   "id": "e58df301-ac7c-4090-bc7f-87caea2890fa",
   "metadata": {},
   "outputs": [
    {
     "name": "stdout",
     "output_type": "stream",
     "text": [
      "\n",
      "\n",
      "Printing 3x2 matrix A...\n",
      "0 0 \n",
      "0 1 \n",
      "0 2 \n",
      "\n",
      "\n",
      "Printing 6x4 matrix B...\n",
      "0 0 0 0 \n",
      "0 1 2 3 \n",
      "0 2 4 6 \n",
      "0 3 6 9 \n",
      "0 4 8 12 \n",
      "0 5 10 15 \n",
      "\n",
      "Max element in size 3x2 matrix A is -> 2\n",
      "\n",
      "Max element in size 6x3 matrix B is -> 15\n"
     ]
    }
   ],
   "source": [
    "exec_status = os.system(\"./twod\")"
   ]
  },
  {
   "cell_type": "code",
   "execution_count": null,
   "id": "a32e1608",
   "metadata": {},
   "outputs": [],
   "source": []
  }
 ],
 "metadata": {
  "kernelspec": {
   "display_name": "Python 3 (ipykernel)",
   "language": "python",
   "name": "python3"
  },
  "language_info": {
   "codemirror_mode": {
    "name": "ipython",
    "version": 3
   },
   "file_extension": ".py",
   "mimetype": "text/x-python",
   "name": "python",
   "nbconvert_exporter": "python",
   "pygments_lexer": "ipython3",
   "version": "3.10.13"
  },
  "vscode": {
   "interpreter": {
    "hash": "916dbcbb3f70747c44a77c7bcd40155683ae19c65e1c03b4aa3499c5328201f1"
   }
  }
 },
 "nbformat": 4,
 "nbformat_minor": 5
}