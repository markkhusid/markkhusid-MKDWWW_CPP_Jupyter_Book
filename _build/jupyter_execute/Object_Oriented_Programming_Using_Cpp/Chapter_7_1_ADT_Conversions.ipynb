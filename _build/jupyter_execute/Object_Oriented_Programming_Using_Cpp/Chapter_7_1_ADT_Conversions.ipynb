{
 "cells": [
  {
   "cell_type": "raw",
   "id": "15b484a3-b826-4b72-ad90-8fc090a94c25",
   "metadata": {},
   "source": [
    "---\n",
    "jupytext:\n",
    "  formats: md:myst\n",
    "  text_representation:\n",
    "    extension: .md\n",
    "    format_name: myst\n",
    "kernelspec:\n",
    "  display_name: Python 3\n",
    "  language: python\n",
    "  name: python3\n",
    "---"
   ]
  },
  {
   "attachments": {},
   "cell_type": "markdown",
   "id": "4fae3c47-7ba5-411e-929d-45543f813a61",
   "metadata": {
    "tags": []
   },
   "source": [
    "# Chapter 7.1: ADT Conversions"
   ]
  },
  {
   "cell_type": "markdown",
   "id": "da8da31b-2a7d-4e52-a914-442ca5a67839",
   "metadata": {},
   "source": [
    "Adapted from: \"Object-Oriented Programming Using C++\" by Ira Pohl (Addison - Wesley)"
   ]
  },
  {
   "attachments": {},
   "cell_type": "markdown",
   "id": "6d7f6d49-ca5d-4d20-bf88-0bf99bdba5ea",
   "metadata": {},
   "source": [
    "## Program that demonstrates an implicit copy constructor in C++"
   ]
  },
  {
   "attachments": {},
   "cell_type": "markdown",
   "id": "17067957",
   "metadata": {},
   "source": [
    "In file string7.cpp"
   ]
  },
  {
   "attachments": {},
   "cell_type": "markdown",
   "id": "fae9a7ec-75a5-4a60-b10f-3b4693886d0c",
   "metadata": {},
   "source": [
    "```c++\n",
    "/*********************************************************************\n",
    "\n",
    "  Filename:  string7.cpp\n",
    "  Chapter:   7      Ad Hoc Polymorphism\n",
    "  Section:   7.1    ADT Conversions\n",
    "  Compiler:  Borland C++     Version 5.0       Summer 1996\n",
    "  Object Oriented Programming Using C++, Edition 2   By Ira Pohl\n",
    "\n",
    "*********************************************************************/\n",
    "\n",
    "// An implementation of dynamically allocated strings.\n",
    "// with conversions and overloaded assignment\n",
    "\n",
    "#include <iostream>\n",
    "#include <string.h>\n",
    "#include <assert.h>\n",
    "\n",
    "using namespace std;\n",
    "\n",
    "class my_string {\n",
    "public:\n",
    "   my_string() : len(0)\n",
    "      { \n",
    "         s = new char[1];\n",
    "         assert(s != 0); \n",
    "         s[0] = 0;\n",
    "      }\n",
    "   my_string(const my_string& str); //copy constructor\n",
    "   my_string(const char* p);        //conversion constructor\n",
    "   ~my_string() \n",
    "      { \n",
    "         delete []s; \n",
    "      }\n",
    "   void print() const \n",
    "      { \n",
    "         cout << s << endl; \n",
    "      }\n",
    "   // Had to make the parameter const so that the program can compile.  MK.   \n",
    "   my_string operator=(const my_string& a);\n",
    "   operator char*();     //conversion to char*\n",
    "private:\n",
    "   char*  s;\n",
    "   int    len;\n",
    "};\n",
    "\n",
    "// No return type.  MK.\n",
    "my_string::operator char*()\n",
    "{\n",
    "   char*  p = new char[len + 1];\n",
    "   assert(p != 0);\n",
    "   strcpy(p, s);\n",
    "   return p;\n",
    "}\n",
    "\n",
    "my_string::my_string(const char* p)\n",
    "{\n",
    "   len = strlen(p);\n",
    "   s = new char[len + 1];\n",
    "   assert(s != 0);\n",
    "   strcpy(s, p);\n",
    "}\n",
    "\n",
    "my_string::my_string(const my_string& str) : len(str.len)\n",
    "{\n",
    "   s = new char[len + 1];\n",
    "   assert(s != 0);\n",
    "   strcpy(s, str.s);\n",
    "}\n",
    "\n",
    "// Had to make the parameter const so that the program can compile.  MK.\n",
    "my_string my_string::operator=(const my_string& a)\n",
    "{\n",
    "   if (this != &a) {       //a = a; do nothing\n",
    "      if (a.len != len) {  //  if need different size string\n",
    "         delete []s;\n",
    "         len = a.len;\n",
    "         s = new char[len + 1];\n",
    "         assert(s != 0);\n",
    "      }\n",
    "      strcpy(s, a.s);\n",
    "   }\n",
    "   return *this;\n",
    "}\n",
    "\n",
    "int main()\n",
    "{\n",
    "   my_string s(\"Test it\"), c(\"One\"), d(\"Two\");\n",
    "   char* logo = \"Geometrics Inc\";\n",
    "   char* logo2 = \"MK Dynamics Inc\";\n",
    "   char* testit;\n",
    "\n",
    "   testit = s;\n",
    "   cout << testit << endl;     // check convert my_string to char*\n",
    "   s = \"One two three\";\n",
    "   s.print();\n",
    "   s = logo;                   // check convert char* to my_string and =\n",
    "   s.print();\n",
    "   s = static_cast<my_string>(logo2);\n",
    "   s.print();\n",
    "   c = s = d;                  //check multiple assign on overloaded =\n",
    "   c.print();\n",
    "   s.print();\n",
    "}\n",
    "```"
   ]
  },
  {
   "cell_type": "markdown",
   "id": "3e111038",
   "metadata": {},
   "source": [
    "## Compilation Process"
   ]
  },
  {
   "cell_type": "markdown",
   "id": "e7e2abf0-947f-407d-8084-28bf87186370",
   "metadata": {},
   "source": [
    "The above program is compiled and run using Gnu Compiler Collection (g++):"
   ]
  },
  {
   "cell_type": "code",
   "execution_count": 1,
   "id": "f091e74f-fca0-43fa-8114-1c526abb4f95",
   "metadata": {},
   "outputs": [],
   "source": [
    "import os\n",
    "root_dir = os.getcwd()"
   ]
  },
  {
   "cell_type": "code",
   "execution_count": 2,
   "id": "9836a2e4-d065-4ba0-928b-66a4e7cce418",
   "metadata": {},
   "outputs": [],
   "source": [
    "code_dir = root_dir + \"/\" + \\\n",
    "    \"Cpp_Code/Chapter_7_1_ADT_Conversions\""
   ]
  },
  {
   "cell_type": "code",
   "execution_count": 3,
   "id": "af912e98-7de3-40d7-8825-217493f6a66b",
   "metadata": {},
   "outputs": [],
   "source": [
    "os.chdir(code_dir)"
   ]
  },
  {
   "cell_type": "code",
   "execution_count": 4,
   "id": "a734c6b9-cf2b-455b-a921-40f7efc58bd2",
   "metadata": {},
   "outputs": [],
   "source": [
    "build_command = os.system(\"g++ string7.cpp -w -o string7\")"
   ]
  },
  {
   "cell_type": "markdown",
   "id": "999f33dc",
   "metadata": {},
   "source": [
    "## Execution Process"
   ]
  },
  {
   "cell_type": "code",
   "execution_count": 5,
   "id": "e58df301-ac7c-4090-bc7f-87caea2890fa",
   "metadata": {},
   "outputs": [
    {
     "name": "stdout",
     "output_type": "stream",
     "text": [
      "Test it\n",
      "One two three\n",
      "Geometrics Inc\n",
      "MK Dynamics Inc\n",
      "Two\n",
      "Two\n"
     ]
    }
   ],
   "source": [
    "exec_status = os.system(\"./string7\")"
   ]
  }
 ],
 "metadata": {
  "kernelspec": {
   "display_name": "Python 3 (ipykernel)",
   "language": "python",
   "name": "python3"
  },
  "language_info": {
   "codemirror_mode": {
    "name": "ipython",
    "version": 3
   },
   "file_extension": ".py",
   "mimetype": "text/x-python",
   "name": "python",
   "nbconvert_exporter": "python",
   "pygments_lexer": "ipython3",
   "version": "3.9.15"
  },
  "vscode": {
   "interpreter": {
    "hash": "916dbcbb3f70747c44a77c7bcd40155683ae19c65e1c03b4aa3499c5328201f1"
   }
  }
 },
 "nbformat": 4,
 "nbformat_minor": 5
}