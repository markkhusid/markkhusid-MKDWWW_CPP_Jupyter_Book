{
 "cells": [
  {
   "cell_type": "raw",
   "id": "15b484a3-b826-4b72-ad90-8fc090a94c25",
   "metadata": {},
   "source": [
    "---\n",
    "jupytext:\n",
    "  formats: md:myst\n",
    "  text_representation:\n",
    "    extension: .md\n",
    "    format_name: myst\n",
    "kernelspec:\n",
    "  display_name: Python 3\n",
    "  language: python\n",
    "  name: python3\n",
    "---"
   ]
  },
  {
   "cell_type": "markdown",
   "id": "4fae3c47-7ba5-411e-929d-45543f813a61",
   "metadata": {
    "tags": []
   },
   "source": [
    "# Chapter 6.6: Members that Are Class Types "
   ]
  },
  {
   "cell_type": "markdown",
   "id": "da8da31b-2a7d-4e52-a914-442ca5a67839",
   "metadata": {},
   "source": [
    "Adapted from: \"Object-Oriented Programming Using C++\" by Ira Pohl (Addison - Wesley)"
   ]
  },
  {
   "cell_type": "markdown",
   "id": "6d7f6d49-ca5d-4d20-bf88-0bf99bdba5ea",
   "metadata": {},
   "source": [
    "## Program that demonstrates class members that are class types in C++"
   ]
  },
  {
   "cell_type": "markdown",
   "id": "17067957",
   "metadata": {},
   "source": [
    "In file vect1.h"
   ]
  },
  {
   "cell_type": "markdown",
   "id": "fae9a7ec-75a5-4a60-b10f-3b4693886d0c",
   "metadata": {},
   "source": [
    "```c++\n",
    "/*********************************************************************\n",
    "\n",
    "  Filename:  vect1.h\n",
    "  Chapter:   6      Object Creation and Destruction\n",
    "  Section:   6.5    A class vect\n",
    "  Compiler:  Borland C++     Version 5.0       Summer 1996\n",
    "  Object Oriented Programming Using C++, Edition 2   By Ira Pohl\n",
    "\n",
    "*********************************************************************/\n",
    "\n",
    "//Implementation of a safe array type vect\n",
    "\n",
    "#include  <iostream>                      // changed iostream.h to iostream. MK.\n",
    "#include  <assert.h>\n",
    "\n",
    "//Implementation of a safe array type vect\n",
    "class vect {\n",
    "public:\n",
    "   explicit vect(int n = 10);\n",
    "   ~vect() { delete []p; }\n",
    "   int&  element(int i);                 //access p[i]\n",
    "   int  ub() const {return (size - 1);}  //upper bound\n",
    "private:\n",
    "   int*  p;\n",
    "   int   size;\n",
    "};\n",
    "\n",
    "vect::vect(int n) : size(n)\n",
    "{\n",
    "   assert(n > 0);\n",
    "   p = new int[size];\n",
    "   assert(p != 0);\n",
    "}\n",
    "\n",
    "int& vect::element(int i)\n",
    "{\n",
    "   assert (i >= 0 && i < size);\n",
    "   return p[i];\n",
    "}\n",
    "```"
   ]
  },
  {
   "cell_type": "markdown",
   "id": "a417fe12",
   "metadata": {},
   "source": [
    "In file pairvect.cpp"
   ]
  },
  {
   "cell_type": "markdown",
   "id": "98e72bd7",
   "metadata": {},
   "source": [
    "```C++\n",
    "/*********************************************************************\n",
    "\n",
    "  Filename:  vect1.h\n",
    "  Chapter:   6      Object Creation and Destruction\n",
    "  Section:   6.5    A class vect\n",
    "  Compiler:  Borland C++     Version 5.0       Summer 1996\n",
    "  Object Oriented Programming Using C++, Edition 2   By Ira Pohl\n",
    "\n",
    "*********************************************************************/\n",
    "\n",
    "//Implementation of a safe array type vect\n",
    "\n",
    "#include  <iostream>                      // changed iostream.h to iostream. MK.\n",
    "#include  <assert.h>\n",
    "\n",
    "//Implementation of a safe array type vect\n",
    "class vect {\n",
    "public:\n",
    "   explicit vect(int n = 10);\n",
    "   ~vect() { delete []p; }\n",
    "   int&  element(int i);                 //access p[i]\n",
    "   int  ub() const {return (size - 1);}  //upper bound\n",
    "private:\n",
    "   int*  p;\n",
    "   int   size;\n",
    "};\n",
    "\n",
    "vect::vect(int n) : size(n)\n",
    "{\n",
    "   assert(n > 0);\n",
    "   p = new int[size];\n",
    "   assert(p != 0);\n",
    "}\n",
    "\n",
    "int& vect::element(int i)\n",
    "{\n",
    "   assert (i >= 0 && i < size);\n",
    "   return p[i];\n",
    "}\n",
    "```"
   ]
  },
  {
   "cell_type": "markdown",
   "id": "3e111038",
   "metadata": {},
   "source": [
    "## Compilation Process"
   ]
  },
  {
   "cell_type": "markdown",
   "id": "e7e2abf0-947f-407d-8084-28bf87186370",
   "metadata": {},
   "source": [
    "The above program is compiled and run using Gnu Compiler Collection (g++):"
   ]
  },
  {
   "cell_type": "code",
   "execution_count": 1,
   "id": "f091e74f-fca0-43fa-8114-1c526abb4f95",
   "metadata": {},
   "outputs": [],
   "source": [
    "import os\n",
    "root_dir = os.getcwd()"
   ]
  },
  {
   "cell_type": "code",
   "execution_count": 2,
   "id": "9836a2e4-d065-4ba0-928b-66a4e7cce418",
   "metadata": {},
   "outputs": [],
   "source": [
    "code_dir = root_dir + \"/\" + \\\n",
    "    \"Cpp_Code/Chapter_6_6_Members_that_Are_Class_Types\""
   ]
  },
  {
   "cell_type": "code",
   "execution_count": 3,
   "id": "af912e98-7de3-40d7-8825-217493f6a66b",
   "metadata": {},
   "outputs": [],
   "source": [
    "os.chdir(code_dir)"
   ]
  },
  {
   "cell_type": "code",
   "execution_count": 4,
   "id": "a734c6b9-cf2b-455b-a921-40f7efc58bd2",
   "metadata": {},
   "outputs": [],
   "source": [
    "build_command = os.system(\"g++ pairvect.cpp -w -o pairvect\")"
   ]
  },
  {
   "cell_type": "markdown",
   "id": "999f33dc",
   "metadata": {},
   "source": [
    "## Execution Process"
   ]
  },
  {
   "cell_type": "code",
   "execution_count": 5,
   "id": "e58df301-ac7c-4090-bc7f-87caea2890fa",
   "metadata": {},
   "outputs": [
    {
     "name": "stdout",
     "output_type": "stream",
     "text": [
      "table of age, weight\n",
      "21,135\n",
      "22,136\n",
      "23,137\n",
      "24,138\n",
      "25,139\n"
     ]
    }
   ],
   "source": [
    "exec_status = os.system(\"./pairvect\")"
   ]
  }
 ],
 "metadata": {
  "kernelspec": {
   "display_name": "Python 3 (ipykernel)",
   "language": "python",
   "name": "python3"
  },
  "language_info": {
   "codemirror_mode": {
    "name": "ipython",
    "version": 3
   },
   "file_extension": ".py",
   "mimetype": "text/x-python",
   "name": "python",
   "nbconvert_exporter": "python",
   "pygments_lexer": "ipython3",
   "version": "3.10.13"
  },
  "vscode": {
   "interpreter": {
    "hash": "916dbcbb3f70747c44a77c7bcd40155683ae19c65e1c03b4aa3499c5328201f1"
   }
  }
 },
 "nbformat": 4,
 "nbformat_minor": 5
}