{
 "cells": [
  {
   "cell_type": "raw",
   "id": "15b484a3-b826-4b72-ad90-8fc090a94c25",
   "metadata": {},
   "source": [
    "---\n",
    "jupytext:\n",
    "  formats: md:myst\n",
    "  text_representation:\n",
    "    extension: .md\n",
    "    format_name: myst\n",
    "kernelspec:\n",
    "  display_name: Python 3\n",
    "  language: python\n",
    "  name: python3\n",
    "---"
   ]
  },
  {
   "cell_type": "markdown",
   "id": "4fae3c47-7ba5-411e-929d-45543f813a61",
   "metadata": {
    "tags": []
   },
   "source": [
    "# An Example:  Dynamically Allocated Strings"
   ]
  },
  {
   "cell_type": "markdown",
   "id": "da8da31b-2a7d-4e52-a914-442ca5a67839",
   "metadata": {},
   "source": [
    "Adapted from: \"Object-Oriented Programming Using C++\" by Ira Pohl (Addison- Wesley)"
   ]
  },
  {
   "cell_type": "markdown",
   "id": "6d7f6d49-ca5d-4d20-bf88-0bf99bdba5ea",
   "metadata": {},
   "source": [
    "## Program that demonstrates dynamically allocated strings using classes in C++"
   ]
  },
  {
   "cell_type": "markdown",
   "id": "fae9a7ec-75a5-4a60-b10f-3b4693886d0c",
   "metadata": {},
   "source": [
    "```c++\n",
    "//An implementation of dynamically allocated strings.\n",
    "#include <iostream>\n",
    "#include <string.h>\n",
    "#include <assert.h>\n",
    "\n",
    "using namespace std;\n",
    "\n",
    "class my_string {\n",
    "public:\n",
    "    my_string() : len(0) {\n",
    "        s = new char[1];\n",
    "        assert (s != 0);\n",
    "        s[0] - 0;\n",
    "    }\n",
    "\n",
    "    my_string(const my_string& str);    // copy constructor\n",
    "    \n",
    "    my_string(const char* p);           // conversion constructor\n",
    "    \n",
    "    ~my_string () {\n",
    "        delete []s;\n",
    "    }\n",
    "\n",
    "    void assign(const my_string& str);\n",
    "\n",
    "    void print() const {\n",
    "        cout << s << endl;\n",
    "    }\n",
    "\n",
    "    void concat(const my_string& a, const my_string& b);\n",
    "\n",
    "private:\n",
    "    char* s;\n",
    "    int len;\n",
    "};\n",
    "\n",
    "my_string::my_string(const char* p)\n",
    "{\n",
    "    len = strlen(p);\n",
    "    s = new char[len +1];\n",
    "    assert (s != 0);\n",
    "    strcpy(s, p);\n",
    "}\n",
    "\n",
    "my_string::my_string(const my_string& str) : len(str.len)\n",
    "{\n",
    "    s = new char[len + 1];\n",
    "    assert(s != 0);\n",
    "    strcpy(s, str.s);\n",
    "}\n",
    "\n",
    "void my_string::assign(const my_string& str)\n",
    "{\n",
    "    if (this == &str)       // a = a; do nothing\n",
    "        return;\n",
    "    delete []s;\n",
    "    len = str.len;\n",
    "    s = new char[len + 1];\n",
    "    assert(s != 0);\n",
    "    strcpy(s, str.s);\n",
    "}\n",
    "\n",
    "void my_string::concat(const my_string& a, const my_string& b)\n",
    "{\n",
    "    char* temp = new char[a.len + b.len + 1];\n",
    "    len = a.len + b.len;\n",
    "    strcpy(temp, a.s);\n",
    "    strcat(temp, b.s);\n",
    "    delete []s;\n",
    "    s = new char[len + 1];\n",
    "    assert(s != 0);\n",
    "    strcpy(s, temp);\n",
    "}\n",
    "\n",
    "int main()\n",
    "{\n",
    "    char* str = \"The wheel that squeaks the loudest\\n\";\n",
    "    my_string a(str), b, author(\"Josh Billings\\n\"), both, quote;\n",
    "\n",
    "    b.assign(\"Is the one that gets the grease\\n\");\n",
    "    both.concat(a, b);\n",
    "    quote.concat(both, author);\n",
    "    quote.print();\n",
    "}\n",
    "```"
   ]
  },
  {
   "cell_type": "markdown",
   "id": "e7e2abf0-947f-407d-8084-28bf87186370",
   "metadata": {},
   "source": [
    "The above program is compiled and run using Gnu Compiler Collection (g++):"
   ]
  },
  {
   "cell_type": "code",
   "execution_count": 1,
   "id": "f091e74f-fca0-43fa-8114-1c526abb4f95",
   "metadata": {},
   "outputs": [],
   "source": [
    "import os\n",
    "root_dir = os.getcwd()"
   ]
  },
  {
   "cell_type": "code",
   "execution_count": 2,
   "id": "9836a2e4-d065-4ba0-928b-66a4e7cce418",
   "metadata": {},
   "outputs": [],
   "source": [
    "code_dir = root_dir + \"/\" + \\\n",
    "    \"Cpp_Code/Chapter_6_4_An_Example__Dynamically_Allocated_Strings\""
   ]
  },
  {
   "cell_type": "code",
   "execution_count": 3,
   "id": "af912e98-7de3-40d7-8825-217493f6a66b",
   "metadata": {},
   "outputs": [],
   "source": [
    "os.chdir(code_dir)"
   ]
  },
  {
   "cell_type": "code",
   "execution_count": 4,
   "id": "a734c6b9-cf2b-455b-a921-40f7efc58bd2",
   "metadata": {},
   "outputs": [],
   "source": [
    "build_command = os.system(\"g++ string5.cpp -w -o string5\")"
   ]
  },
  {
   "cell_type": "code",
   "execution_count": 5,
   "id": "e58df301-ac7c-4090-bc7f-87caea2890fa",
   "metadata": {},
   "outputs": [
    {
     "name": "stdout",
     "output_type": "stream",
     "text": [
      "The wheel that squeaks the loudest\n",
      "Is the one that gets the grease\n",
      "Josh Billings\n",
      "\n"
     ]
    }
   ],
   "source": [
    "exec_status = os.system(\"./string5\")"
   ]
  }
 ],
 "metadata": {
  "kernelspec": {
   "display_name": "Python 3 (ipykernel)",
   "language": "python",
   "name": "python3"
  },
  "language_info": {
   "codemirror_mode": {
    "name": "ipython",
    "version": 3
   },
   "file_extension": ".py",
   "mimetype": "text/x-python",
   "name": "python",
   "nbconvert_exporter": "python",
   "pygments_lexer": "ipython3",
   "version": "3.9.15"
  },
  "vscode": {
   "interpreter": {
    "hash": "916dbcbb3f70747c44a77c7bcd40155683ae19c65e1c03b4aa3499c5328201f1"
   }
  }
 },
 "nbformat": 4,
 "nbformat_minor": 5
}