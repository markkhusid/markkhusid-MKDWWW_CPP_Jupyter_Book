{
 "cells": [
  {
   "cell_type": "raw",
   "id": "15b484a3-b826-4b72-ad90-8fc090a94c25",
   "metadata": {},
   "source": [
    "---\n",
    "jupytext:\n",
    "  formats: md:myst\n",
    "  text_representation:\n",
    "    extension: .md\n",
    "    format_name: myst\n",
    "kernelspec:\n",
    "  display_name: Python 3\n",
    "  language: python\n",
    "  name: python3\n",
    "---"
   ]
  },
  {
   "cell_type": "markdown",
   "id": "4fae3c47-7ba5-411e-929d-45543f813a61",
   "metadata": {
    "tags": []
   },
   "source": [
    "# Overloading the \"+\" Operator to Handle Strings"
   ]
  },
  {
   "cell_type": "markdown",
   "id": "da8da31b-2a7d-4e52-a914-442ca5a67839",
   "metadata": {},
   "source": [
    "Adapted from: \"Object-Oriented Programming Using C++\" by Ira Pohl (Addison- Wesley)"
   ]
  },
  {
   "cell_type": "markdown",
   "id": "6d7f6d49-ca5d-4d20-bf88-0bf99bdba5ea",
   "metadata": {},
   "source": [
    "## Program that demonstrates operator overloading in C++"
   ]
  },
  {
   "cell_type": "markdown",
   "id": "fae9a7ec-75a5-4a60-b10f-3b4693886d0c",
   "metadata": {},
   "source": [
    "```c++\n",
    "// Overloading the operator +\n",
    "#include <iostream>\n",
    "#include <string>\n",
    "#include <cstring>\n",
    "\n",
    "using namespace std;\n",
    "\n",
    "class my_string {\n",
    "    public:\n",
    "        my_string() { \n",
    "            len = 0; s = new char[1]; \n",
    "        }\n",
    "\n",
    "        explicit my_string(int n) {\n",
    "            s = new char[n+1];\n",
    "            len = n;\n",
    "        }\n",
    "\n",
    "        void assign(const char* str)\n",
    "        {\n",
    "            delete []s;\n",
    "            len = strlen(str);\n",
    "            s = new char[len + 1];\n",
    "            strcpy(s, str);\n",
    "        }\n",
    "\n",
    "        int length() const {\n",
    "            return len;\n",
    "        }\n",
    "\n",
    "        void print() const {\n",
    "            cout << s << \"\\nLength: \" << len << endl;\n",
    "        }\n",
    "\n",
    "        friend my_string& operator+ (const my_string& a, const my_string& b);\n",
    "    \n",
    "    private:\n",
    "        char* s;\n",
    "        int len;\n",
    "};\n",
    "\n",
    "// Overload +\n",
    "my_string& operator+(const my_string& a, const my_string& b)\n",
    "{\n",
    "    my_string* temp = new my_string(a.len + b.len);\n",
    "\n",
    "    strcpy(temp->s, a.s);\n",
    "    strcat(temp->s, b.s);\n",
    "    return *temp;\n",
    "}\n",
    "\n",
    "void print(const char* c) // file scope print\n",
    "{\n",
    "    cout << c << \"\\nLength: \" << strlen(c) << endl;\n",
    "}\n",
    "\n",
    "int main()\n",
    "{\n",
    "    my_string one, two, both;\n",
    "    char three[40] = {\"My name is Charles Babbage.\"};\n",
    "\n",
    "    one.assign(\"My name is Alan Turing.\");\n",
    "    two.assign(three);\n",
    "    print(three);   // file scope print called\n",
    "\n",
    "    if (one.length() <= two.length())\n",
    "        one.print();\n",
    "    else\n",
    "        two.print();\n",
    "\n",
    "    both = one + two;\n",
    "\n",
    "    both.print();\n",
    "}\n",
    "```"
   ]
  },
  {
   "cell_type": "markdown",
   "id": "e7e2abf0-947f-407d-8084-28bf87186370",
   "metadata": {},
   "source": [
    "The above program is compiled and run using Gnu Compiler Collection (g++):"
   ]
  },
  {
   "cell_type": "code",
   "execution_count": 1,
   "id": "f091e74f-fca0-43fa-8114-1c526abb4f95",
   "metadata": {},
   "outputs": [],
   "source": [
    "import os\n",
    "root_dir = os.getcwd()"
   ]
  },
  {
   "cell_type": "code",
   "execution_count": 2,
   "id": "9836a2e4-d065-4ba0-928b-66a4e7cce418",
   "metadata": {},
   "outputs": [],
   "source": [
    "code_dir = root_dir + \"/\" + \"Cpp_Code/Chapter_1_5_Overloading\""
   ]
  },
  {
   "cell_type": "code",
   "execution_count": 3,
   "id": "af912e98-7de3-40d7-8825-217493f6a66b",
   "metadata": {},
   "outputs": [],
   "source": [
    "os.chdir(code_dir)"
   ]
  },
  {
   "cell_type": "code",
   "execution_count": 4,
   "id": "a734c6b9-cf2b-455b-a921-40f7efc58bd2",
   "metadata": {},
   "outputs": [],
   "source": [
    "build_command = os.system(\"g++ string4.cpp -w -o string4\")"
   ]
  },
  {
   "cell_type": "code",
   "execution_count": 5,
   "id": "e58df301-ac7c-4090-bc7f-87caea2890fa",
   "metadata": {},
   "outputs": [
    {
     "name": "stdout",
     "output_type": "stream",
     "text": [
      "My name is Charles Babbage.\n",
      "Length: 27\n",
      "My name is Alan Turing.\n",
      "Length: 23\n",
      "My name is Alan Turing.My name is Charles Babbage.\n",
      "Length: 50\n"
     ]
    }
   ],
   "source": [
    "exec_status = os.system(\"./string4\")"
   ]
  }
 ],
 "metadata": {
  "kernelspec": {
   "display_name": "Python 3 (ipykernel)",
   "language": "python",
   "name": "python3"
  },
  "language_info": {
   "codemirror_mode": {
    "name": "ipython",
    "version": 3
   },
   "file_extension": ".py",
   "mimetype": "text/x-python",
   "name": "python",
   "nbconvert_exporter": "python",
   "pygments_lexer": "ipython3",
   "version": "3.9.15"
  }
 },
 "nbformat": 4,
 "nbformat_minor": 5
}