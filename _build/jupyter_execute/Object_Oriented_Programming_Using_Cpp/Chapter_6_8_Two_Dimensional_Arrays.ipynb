{
 "cells": [
  {
   "cell_type": "raw",
   "id": "15b484a3-b826-4b72-ad90-8fc090a94c25",
   "metadata": {},
   "source": [
    "---\n",
    "jupytext:\n",
    "  formats: md:myst\n",
    "  text_representation:\n",
    "    extension: .md\n",
    "    format_name: myst\n",
    "kernelspec:\n",
    "  display_name: Python 3\n",
    "  language: python\n",
    "  name: python3\n",
    "---"
   ]
  },
  {
   "attachments": {},
   "cell_type": "markdown",
   "id": "4fae3c47-7ba5-411e-929d-45543f813a61",
   "metadata": {
    "tags": []
   },
   "source": [
    "# Chapter 6.8: Two - Dimensional Arrays"
   ]
  },
  {
   "cell_type": "markdown",
   "id": "da8da31b-2a7d-4e52-a914-442ca5a67839",
   "metadata": {},
   "source": [
    "Adapted from: \"Object-Oriented Programming Using C++\" by Ira Pohl (Addison - Wesley)"
   ]
  },
  {
   "attachments": {},
   "cell_type": "markdown",
   "id": "6d7f6d49-ca5d-4d20-bf88-0bf99bdba5ea",
   "metadata": {},
   "source": [
    "## Program that demonstrates matrices as an array of linked lists in C++"
   ]
  },
  {
   "attachments": {},
   "cell_type": "markdown",
   "id": "17067957",
   "metadata": {},
   "source": [
    "In file matrix1.cpp"
   ]
  },
  {
   "attachments": {},
   "cell_type": "markdown",
   "id": "fae9a7ec-75a5-4a60-b10f-3b4693886d0c",
   "metadata": {},
   "source": [
    "```c++\n",
    "/*********************************************************************\n",
    "\n",
    "  Filename:  matrix1.cpp\n",
    "  Chapter:   6      Object Creation and Destruction\n",
    "  Section:   6.8    Two Dimensional Arrays\n",
    "  Compiler:  Borland C++     Version 5.0       Summer 1996\n",
    "  Object Oriented Programming Using C++, Edition 2   By Ira Pohl\n",
    "\n",
    "*********************************************************************/\n",
    "\n",
    "// Adapted by Mark Khusid\n",
    "//A two-dimensional safe array type matrix\n",
    "\n",
    "#include  <iostream>       // Changed iostream.h to iostream.  MK.\n",
    "#include  <assert.h>\n",
    "\n",
    "using namespace std;       // Added. MK.\n",
    "\n",
    "//A two-dimensional safe array type matrix\n",
    "class matrix {\n",
    "public:\n",
    "   matrix(int d1, int d2);\n",
    "   ~matrix();\n",
    "   int  ub1() const { return(s1 - 1); }\n",
    "   int  ub2() const { return(s2 - 1); }\n",
    "   int&  element(int i, int j);\n",
    "private:\n",
    "   int**  p;\n",
    "   int    s1, s2;\n",
    "};\n",
    " matrix::matrix(int d1, int d2) : s1(d1), s2(d2)\n",
    "{\n",
    "   cout << \"\\nActivated Constructor...\" << endl;      // Added instrumentation. MK.\n",
    "   assert(d1 > 0 && d2 > 0);\n",
    "   p = new int*[s1];\n",
    "   assert(p != 0);\n",
    "   for (int i = 0; i < s1; ++i){\n",
    "      p[i] = new int[s2];\n",
    "      assert(p[i] != 0);\n",
    "   }\n",
    "}\n",
    "matrix::~matrix()\n",
    "{\n",
    "   cout << \"\\nActivated Destructor...\" << endl;       // Added instrumentation. MK.\n",
    "   for (int i = 0; i <= ub1(); ++i)\n",
    "      delete p[i];\n",
    "   delete []p;\n",
    "}\n",
    "\n",
    "int& matrix::element(int i, int j)\n",
    "{\n",
    "   assert(i >= 0 || i <= ub1() || j >= 0 || j <= ub2());\n",
    "   return p[i][j];\n",
    "}\n",
    "\n",
    "int main()\n",
    "{\n",
    "   matrix a(4, 4), b(4, 6);      // Removed extra variable c (not used). MK.\n",
    "   int i, j;\n",
    "\n",
    "   cout << \"\\nThe matrix a contains: \" << endl; // Added. MK.\n",
    "   for (i = 0; i <= a.ub1(); ++i) {\n",
    "      cout << \"\\n\";\n",
    "      for (j = 0; j <= a.ub2(); ++j) {\n",
    "         a.element(i, j) = i + j;\n",
    "         cout << a.element(i, j) << \"\\t\";\n",
    "      }\n",
    "   }\n",
    "   \n",
    "   cout << \"\\n\" << endl;   // Added. MK.\n",
    "\n",
    "   cout << \"\\nThe matrix b contains: \" << endl; // Added. MK.\n",
    "   for (i = 0; i <= b.ub1(); ++i) {\n",
    "      cout << \"\\n\";\n",
    "      for (j = 0; j <= b.ub2(); ++j) {\n",
    "         b.element(i, j) = i + j;\n",
    "         cout << b.element(i, j) << \"\\t\";\n",
    "      }\n",
    "   }\n",
    "\n",
    "   cout << \"\\n\" << endl;   // Added. MK.\n",
    "\n",
    "}\n",
    "```"
   ]
  },
  {
   "cell_type": "markdown",
   "id": "3e111038",
   "metadata": {},
   "source": [
    "## Compilation Process"
   ]
  },
  {
   "cell_type": "markdown",
   "id": "e7e2abf0-947f-407d-8084-28bf87186370",
   "metadata": {},
   "source": [
    "The above program is compiled and run using Gnu Compiler Collection (g++):"
   ]
  },
  {
   "cell_type": "code",
   "execution_count": 1,
   "id": "f091e74f-fca0-43fa-8114-1c526abb4f95",
   "metadata": {},
   "outputs": [],
   "source": [
    "import os\n",
    "root_dir = os.getcwd()"
   ]
  },
  {
   "cell_type": "code",
   "execution_count": 2,
   "id": "9836a2e4-d065-4ba0-928b-66a4e7cce418",
   "metadata": {},
   "outputs": [],
   "source": [
    "code_dir = root_dir + \"/\" + \\\n",
    "    \"Cpp_Code/Chapter_6_8_Two_Dimensional_Arrays\""
   ]
  },
  {
   "cell_type": "code",
   "execution_count": 3,
   "id": "af912e98-7de3-40d7-8825-217493f6a66b",
   "metadata": {},
   "outputs": [],
   "source": [
    "os.chdir(code_dir)"
   ]
  },
  {
   "cell_type": "code",
   "execution_count": 4,
   "id": "a734c6b9-cf2b-455b-a921-40f7efc58bd2",
   "metadata": {},
   "outputs": [],
   "source": [
    "build_command = os.system(\"g++ matrix1.cpp -w -o matrix1\")"
   ]
  },
  {
   "cell_type": "markdown",
   "id": "999f33dc",
   "metadata": {},
   "source": [
    "## Execution Process"
   ]
  },
  {
   "cell_type": "code",
   "execution_count": 5,
   "id": "e58df301-ac7c-4090-bc7f-87caea2890fa",
   "metadata": {},
   "outputs": [
    {
     "name": "stdout",
     "output_type": "stream",
     "text": [
      "\n",
      "Activated Constructor...\n",
      "\n",
      "Activated Constructor...\n",
      "\n",
      "The matrix a contains: \n",
      "\n",
      "0\t1\t2\t3\t\n",
      "1\t2\t3\t4\t\n",
      "2\t3\t4\t5\t\n",
      "3\t4\t5\t6\t\n",
      "\n",
      "\n",
      "The matrix b contains: \n",
      "\n",
      "0\t1\t2\t3\t4\t5\t\n",
      "1\t2\t3\t4\t5\t6\t\n",
      "2\t3\t4\t5\t6\t7\t\n",
      "3\t4\t5\t6\t7\t8\t\n",
      "\n",
      "\n",
      "Activated Destructor...\n",
      "\n",
      "Activated Destructor...\n"
     ]
    }
   ],
   "source": [
    "exec_status = os.system(\"./matrix1\")"
   ]
  }
 ],
 "metadata": {
  "kernelspec": {
   "display_name": "Python 3 (ipykernel)",
   "language": "python",
   "name": "python3"
  },
  "language_info": {
   "codemirror_mode": {
    "name": "ipython",
    "version": 3
   },
   "file_extension": ".py",
   "mimetype": "text/x-python",
   "name": "python",
   "nbconvert_exporter": "python",
   "pygments_lexer": "ipython3",
   "version": "3.9.15"
  },
  "vscode": {
   "interpreter": {
    "hash": "916dbcbb3f70747c44a77c7bcd40155683ae19c65e1c03b4aa3499c5328201f1"
   }
  }
 },
 "nbformat": 4,
 "nbformat_minor": 5
}