{
 "cells": [
  {
   "cell_type": "raw",
   "id": "15b484a3-b826-4b72-ad90-8fc090a94c25",
   "metadata": {},
   "source": [
    "---\n",
    "jupytext:\n",
    "  formats: md:myst\n",
    "  text_representation:\n",
    "    extension: .md\n",
    "    format_name: myst\n",
    "kernelspec:\n",
    "  display_name: Python 3\n",
    "  language: python\n",
    "  name: python3\n",
    "---"
   ]
  },
  {
   "attachments": {},
   "cell_type": "markdown",
   "id": "4fae3c47-7ba5-411e-929d-45543f813a61",
   "metadata": {
    "tags": []
   },
   "source": [
    "# Chapter 7.2: Overloading and Function Selection"
   ]
  },
  {
   "cell_type": "markdown",
   "id": "da8da31b-2a7d-4e52-a914-442ca5a67839",
   "metadata": {},
   "source": [
    "Adapted from: \"Object-Oriented Programming Using C++\" by Ira Pohl (Addison - Wesley)"
   ]
  },
  {
   "attachments": {},
   "cell_type": "markdown",
   "id": "6d7f6d49-ca5d-4d20-bf88-0bf99bdba5ea",
   "metadata": {},
   "source": [
    "## Program that demonstrates overloaded functions selection in C++"
   ]
  },
  {
   "attachments": {},
   "cell_type": "markdown",
   "id": "17067957",
   "metadata": {},
   "source": [
    "In file rational.cpp"
   ]
  },
  {
   "attachments": {},
   "cell_type": "markdown",
   "id": "fae9a7ec-75a5-4a60-b10f-3b4693886d0c",
   "metadata": {},
   "source": [
    "```c++\n",
    "/*********************************************************************\n",
    "\n",
    "  Filename:  rational.cpp\n",
    "  Chapter:   7      Ad Hoc Polymorphism\n",
    "  Section:   7.3    Overloading and Function Selection\n",
    "  Compiler:  Borland C++     Version 5.0       Summer 1996\n",
    "  Object Oriented Programming Using C++, Edition 2   By Ira Pohl\n",
    "\n",
    "*********************************************************************/\n",
    "\n",
    "//Overloading functions\n",
    "#include  <iostream>       // Changed iostream.h to iostream.  MK.\n",
    "\n",
    "using namespace std;       // Added. MK.\n",
    "\n",
    "class rational{\n",
    "public:\n",
    "   rational(int n = 0) : a(n),q(1){}\n",
    "   rational(int i, int j) : a(i), q(j){}\n",
    "   rational(double r) : q(BIG), a(r * BIG){}\n",
    "   void  print() const { cout << a << \" / \" << q ; }\n",
    "   operator double(){return static_cast<double>(a)/q;}\n",
    "   friend ostream& operator<<(ostream& out, rational x);\n",
    "   friend istream& operator>>(istream& in, rational& x);\n",
    "private:\n",
    "   long  a, q;\n",
    "   enum {BIG = 100};\n",
    "};\n",
    "\n",
    "ostream& operator<<(ostream& out, rational x)\n",
    "{\n",
    "    return (out << x.a << \" / \" << x.q << '\\t');\n",
    "}\n",
    "\n",
    "\n",
    "istream& operator>>(istream& in, rational& x)\n",
    "{\n",
    "   return (in >> x.a >> x.q);\n",
    "}\n",
    "\n",
    "// Changed greater to is_greater since greater\n",
    "// interferes with std::greater and compiler complains.\n",
    "inline int      is_greater(int i, int j)\n",
    "      { return ( i > j ? i : j); }\n",
    "inline double   is_greater(double x, double y)\n",
    "      { return ( x > y ? x : y); }\n",
    "inline rational is_greater(rational w, rational z)\n",
    "      { return ( w > z ? w : z); }\n",
    "\n",
    "int main()\n",
    "{\n",
    "   int     i = 10, j = 5;\n",
    "   float   x = 7.0;\n",
    "   double  y = 14.5;\n",
    "   rational w(10), z(3.5), zmax;\n",
    "\n",
    "   cout << \"\\ngreater(\" << i << \", \" << j << \") = \"\n",
    "        << is_greater(i, j);\n",
    "   cout << \"\\ngreater(\" << x << \", \" << y << \") = \"\n",
    "        << is_greater(x, y);\n",
    "   cout << \"\\ngreater(\" << i << \", \" ;\n",
    "   z.print();\n",
    "   cout << \") = \"\n",
    "        << is_greater(static_cast<rational>(i), z);\n",
    "   zmax = is_greater(w, z);\n",
    "   cout << \"\\ngreater(\";\n",
    "   w.print();\n",
    "   cout << \", \";\n",
    "   z.print();\n",
    "   cout << \") = \";\n",
    "   zmax.print();\n",
    "   // Commented code below.  MK.\n",
    "   //cout << \"\\nEnter two longs for rational: \";\n",
    "   cout << endl;\n",
    "   cout << \"Testing overloaded stream operation on rational class...\" << endl;\n",
    "   cin >> w;\n",
    "   cout << w << endl;\n",
    "}\n",
    "```"
   ]
  },
  {
   "cell_type": "markdown",
   "id": "3e111038",
   "metadata": {},
   "source": [
    "## Compilation Process"
   ]
  },
  {
   "cell_type": "markdown",
   "id": "e7e2abf0-947f-407d-8084-28bf87186370",
   "metadata": {},
   "source": [
    "The above program is compiled and run using Gnu Compiler Collection (g++):"
   ]
  },
  {
   "cell_type": "code",
   "execution_count": 1,
   "id": "f091e74f-fca0-43fa-8114-1c526abb4f95",
   "metadata": {},
   "outputs": [],
   "source": [
    "import os\n",
    "root_dir = os.getcwd()"
   ]
  },
  {
   "cell_type": "code",
   "execution_count": 2,
   "id": "9836a2e4-d065-4ba0-928b-66a4e7cce418",
   "metadata": {},
   "outputs": [],
   "source": [
    "code_dir = root_dir + \"/\" + \\\n",
    "    \"Cpp_Code/Chapter_7_2_Overloading_and_Function_Selection\""
   ]
  },
  {
   "cell_type": "code",
   "execution_count": 3,
   "id": "af912e98-7de3-40d7-8825-217493f6a66b",
   "metadata": {},
   "outputs": [],
   "source": [
    "os.chdir(code_dir)"
   ]
  },
  {
   "cell_type": "code",
   "execution_count": 4,
   "id": "a734c6b9-cf2b-455b-a921-40f7efc58bd2",
   "metadata": {},
   "outputs": [],
   "source": [
    "build_command = os.system(\"g++ rational.cpp -w -o rational\")"
   ]
  },
  {
   "cell_type": "markdown",
   "id": "999f33dc",
   "metadata": {},
   "source": [
    "## Execution Process"
   ]
  },
  {
   "cell_type": "code",
   "execution_count": 5,
   "id": "e58df301-ac7c-4090-bc7f-87caea2890fa",
   "metadata": {},
   "outputs": [
    {
     "name": "stdout",
     "output_type": "stream",
     "text": [
      "\n",
      "greater(10, 5) = 10\n",
      "greater(7, 14.5) = 14.5\n",
      "greater(10, 350 / 100) = 10 / 1\t\n",
      "greater(10 / 1, 350 / 100) = 10 / 1\n",
      "Testing overloaded stream operation on rational class...\n",
      "123 / 456\t\n"
     ]
    }
   ],
   "source": [
    "exec_status = os.system(\"echo \\\"123 456\\\" | ./rational\")"
   ]
  }
 ],
 "metadata": {
  "kernelspec": {
   "display_name": "Python 3 (ipykernel)",
   "language": "python",
   "name": "python3"
  },
  "language_info": {
   "codemirror_mode": {
    "name": "ipython",
    "version": 3
   },
   "file_extension": ".py",
   "mimetype": "text/x-python",
   "name": "python",
   "nbconvert_exporter": "python",
   "pygments_lexer": "ipython3",
   "version": "3.10.13"
  },
  "vscode": {
   "interpreter": {
    "hash": "916dbcbb3f70747c44a77c7bcd40155683ae19c65e1c03b4aa3499c5328201f1"
   }
  }
 },
 "nbformat": 4,
 "nbformat_minor": 5
}