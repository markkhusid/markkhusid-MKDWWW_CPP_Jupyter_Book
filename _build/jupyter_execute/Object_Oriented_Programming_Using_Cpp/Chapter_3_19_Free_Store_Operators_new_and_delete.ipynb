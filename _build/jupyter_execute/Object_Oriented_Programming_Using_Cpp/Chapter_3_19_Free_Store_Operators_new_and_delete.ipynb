{
 "cells": [
  {
   "cell_type": "raw",
   "id": "15b484a3-b826-4b72-ad90-8fc090a94c25",
   "metadata": {},
   "source": [
    "---\n",
    "jupytext:\n",
    "  formats: md:myst\n",
    "  text_representation:\n",
    "    extension: .md\n",
    "    format_name: myst\n",
    "kernelspec:\n",
    "  display_name: Python 3\n",
    "  language: python\n",
    "  name: python3\n",
    "---"
   ]
  },
  {
   "cell_type": "markdown",
   "id": "4fae3c47-7ba5-411e-929d-45543f813a61",
   "metadata": {
    "tags": []
   },
   "source": [
    "# Free Store Operators **new** and **delete**"
   ]
  },
  {
   "cell_type": "markdown",
   "id": "da8da31b-2a7d-4e52-a914-442ca5a67839",
   "metadata": {},
   "source": [
    "Adapted from: \"Object-Oriented Programming Using C++\" by Ira Pohl (Addison- Wesley)"
   ]
  },
  {
   "cell_type": "markdown",
   "id": "6d7f6d49-ca5d-4d20-bf88-0bf99bdba5ea",
   "metadata": {},
   "source": [
    "## Program that demonstrates the free store operators *new* and *delete* in C++"
   ]
  },
  {
   "cell_type": "markdown",
   "id": "fae9a7ec-75a5-4a60-b10f-3b4693886d0c",
   "metadata": {},
   "source": [
    "```c++\n",
    "#include <iostream>\n",
    "#include <assert.h>\n",
    "using namespace std;\n",
    "\n",
    "double avg_arr(const int a[], int size)\n",
    "{\n",
    "    int sum = 0;\n",
    "    for (int i = 0; i < size; ++i)\n",
    "        sum += a[i];\n",
    "    return static_cast<double>(sum) / size;\n",
    "}\n",
    "\n",
    "int main()\n",
    "{\n",
    "    int *   data;\n",
    "    int     size;\n",
    "\n",
    "    for (int n_loop = 0; n_loop < 1; ++n_loop) {\n",
    "        cout << \"\\nEnter array size: \";\n",
    "        cin >> size;\n",
    "        assert(size > 0);\n",
    "\n",
    "        data = new int[size];\n",
    "        assert (data != 0);\n",
    "\n",
    "        for (int j = 0; j < size; ++j) {\n",
    "            cout << \"\\nEnter data at position \" << j << \" -> \";\n",
    "            cin >> data[j];\n",
    "        }\n",
    "        \n",
    "        cout << \" average is \" << avg_arr(data, size) << endl;\n",
    "        delete [] data;\n",
    "    }\n",
    "}\n",
    "```"
   ]
  },
  {
   "cell_type": "markdown",
   "id": "e7e2abf0-947f-407d-8084-28bf87186370",
   "metadata": {},
   "source": [
    "The above program is compiled and run using Gnu Compiler Collection (g++):"
   ]
  },
  {
   "cell_type": "code",
   "execution_count": 1,
   "id": "f091e74f-fca0-43fa-8114-1c526abb4f95",
   "metadata": {},
   "outputs": [],
   "source": [
    "import os\n",
    "root_dir = os.getcwd()"
   ]
  },
  {
   "cell_type": "code",
   "execution_count": 2,
   "id": "9836a2e4-d065-4ba0-928b-66a4e7cce418",
   "metadata": {},
   "outputs": [],
   "source": [
    "code_dir = root_dir + \"/\" + \"Cpp_Code/Chapter_3_19_Free_Store_Operators_new_and_delete\""
   ]
  },
  {
   "cell_type": "code",
   "execution_count": 3,
   "id": "af912e98-7de3-40d7-8825-217493f6a66b",
   "metadata": {},
   "outputs": [],
   "source": [
    "ch_dir_stat = os.chdir(code_dir)"
   ]
  },
  {
   "cell_type": "code",
   "execution_count": 4,
   "id": "a734c6b9-cf2b-455b-a921-40f7efc58bd2",
   "metadata": {},
   "outputs": [],
   "source": [
    "build_command = os.system(\"g++ dynarray.cpp -w -o dynarray\")"
   ]
  },
  {
   "cell_type": "code",
   "execution_count": 5,
   "id": "e58df301-ac7c-4090-bc7f-87caea2890fa",
   "metadata": {},
   "outputs": [
    {
     "name": "stdout",
     "output_type": "stream",
     "text": [
      "\n",
      "Enter array size: "
     ]
    },
    {
     "name": "stdout",
     "output_type": "stream",
     "text": [
      "\n",
      "Enter data at position 0 -> \n",
      "Enter data at position 1 -> \n",
      "Enter data at position 2 -> \n",
      "Enter data at position 3 -> \n",
      "Enter data at position 4 ->  average is 468.6\n"
     ]
    }
   ],
   "source": [
    "exec_status = os.system(\"echo \\\"5 123 456 789 321 654\\\" | ./dynarray\")"
   ]
  },
  {
   "cell_type": "code",
   "execution_count": null,
   "id": "42e5ecb3",
   "metadata": {},
   "outputs": [],
   "source": []
  }
 ],
 "metadata": {
  "kernelspec": {
   "display_name": "Python 3 (ipykernel)",
   "language": "python",
   "name": "python3"
  },
  "language_info": {
   "codemirror_mode": {
    "name": "ipython",
    "version": 3
   },
   "file_extension": ".py",
   "mimetype": "text/x-python",
   "name": "python",
   "nbconvert_exporter": "python",
   "pygments_lexer": "ipython3",
   "version": "3.9.15"
  },
  "vscode": {
   "interpreter": {
    "hash": "916dbcbb3f70747c44a77c7bcd40155683ae19c65e1c03b4aa3499c5328201f1"
   }
  }
 },
 "nbformat": 4,
 "nbformat_minor": 5
}