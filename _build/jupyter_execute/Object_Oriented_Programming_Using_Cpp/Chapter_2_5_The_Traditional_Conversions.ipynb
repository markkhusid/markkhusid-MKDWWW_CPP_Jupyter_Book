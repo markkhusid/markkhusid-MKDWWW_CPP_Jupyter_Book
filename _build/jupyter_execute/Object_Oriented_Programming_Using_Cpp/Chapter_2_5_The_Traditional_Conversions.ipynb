{
 "cells": [
  {
   "cell_type": "raw",
   "id": "15b484a3-b826-4b72-ad90-8fc090a94c25",
   "metadata": {},
   "source": [
    "---\n",
    "jupytext:\n",
    "  formats: md:myst\n",
    "  text_representation:\n",
    "    extension: .md\n",
    "    format_name: myst\n",
    "kernelspec:\n",
    "  display_name: Python 3\n",
    "  language: python\n",
    "  name: python3\n",
    "---"
   ]
  },
  {
   "cell_type": "markdown",
   "id": "4fae3c47-7ba5-411e-929d-45543f813a61",
   "metadata": {
    "tags": []
   },
   "source": [
    "# The Traditional Conversions"
   ]
  },
  {
   "cell_type": "markdown",
   "id": "da8da31b-2a7d-4e52-a914-442ca5a67839",
   "metadata": {},
   "source": [
    "Adapted from: \"Object-Oriented Programming Using C++\" by Ira Pohl (Addison- Wesley)"
   ]
  },
  {
   "cell_type": "markdown",
   "id": "6d7f6d49-ca5d-4d20-bf88-0bf99bdba5ea",
   "metadata": {},
   "source": [
    "## Program that demonstrates type conversion in C++"
   ]
  },
  {
   "cell_type": "markdown",
   "id": "fae9a7ec-75a5-4a60-b10f-3b4693886d0c",
   "metadata": {},
   "source": [
    "```c++\n",
    "// Miles are converted to kilometers\n",
    "#include <iostream>\n",
    "\n",
    "const double m_to_k = 1.609;    // Conversion constant\n",
    "\n",
    "inline double mi_to_km(int miles)\n",
    "{\n",
    "    return (miles * m_to_k);\n",
    "}\n",
    "\n",
    "int main()\n",
    "{\n",
    "    int miles;\n",
    "    double kilometers;\n",
    "\n",
    "    do {\n",
    "        std::cout << \"\\nEnter distance in miles: \";\n",
    "        std::cin >> miles;\n",
    "\n",
    "        kilometers = mi_to_km(miles);\n",
    "        std::cout << \"\\nThis is approximately \" << static_cast<int>(kilometers) \n",
    "            << \"km.\" << std::endl;\n",
    "    } while (miles > 0);\n",
    "}\n",
    "```"
   ]
  },
  {
   "cell_type": "markdown",
   "id": "e7e2abf0-947f-407d-8084-28bf87186370",
   "metadata": {},
   "source": [
    "The above program is compiled and run using Gnu Compiler Collection (g++):"
   ]
  },
  {
   "cell_type": "code",
   "execution_count": 1,
   "id": "f091e74f-fca0-43fa-8114-1c526abb4f95",
   "metadata": {},
   "outputs": [],
   "source": [
    "import os\n",
    "root_dir = os.getcwd()"
   ]
  },
  {
   "cell_type": "code",
   "execution_count": 2,
   "id": "9836a2e4-d065-4ba0-928b-66a4e7cce418",
   "metadata": {},
   "outputs": [],
   "source": [
    "code_dir = root_dir + \"/\" + \"Cpp_Code/Chapter_2_5_The_Traditional_Conversions\""
   ]
  },
  {
   "cell_type": "code",
   "execution_count": 3,
   "id": "af912e98-7de3-40d7-8825-217493f6a66b",
   "metadata": {},
   "outputs": [],
   "source": [
    "ch_dir_stat = os.chdir(code_dir)"
   ]
  },
  {
   "cell_type": "code",
   "execution_count": 4,
   "id": "a734c6b9-cf2b-455b-a921-40f7efc58bd2",
   "metadata": {},
   "outputs": [],
   "source": [
    "build_command = os.system(\"g++ m_to_k.cpp -w -o m_to_k\")"
   ]
  },
  {
   "cell_type": "code",
   "execution_count": 5,
   "id": "e58df301-ac7c-4090-bc7f-87caea2890fa",
   "metadata": {},
   "outputs": [
    {
     "name": "stdout",
     "output_type": "stream",
     "text": [
      "\n",
      "Enter distance in miles: \n",
      "This is approximately 16km.\n",
      "\n",
      "Enter distance in miles: \n",
      "This is approximately 80km.\n",
      "\n",
      "Enter distance in miles: \n",
      "This is approximately 0km.\n"
     ]
    }
   ],
   "source": [
    "exec_status = os.system(\"echo \\\"10 50 0\\\" | ./m_to_k\")"
   ]
  }
 ],
 "metadata": {
  "kernelspec": {
   "display_name": "Python 3.9.2 64-bit",
   "language": "python",
   "name": "python3"
  },
  "language_info": {
   "codemirror_mode": {
    "name": "ipython",
    "version": 3
   },
   "file_extension": ".py",
   "mimetype": "text/x-python",
   "name": "python",
   "nbconvert_exporter": "python",
   "pygments_lexer": "ipython3",
   "version": "3.9.15"
  },
  "vscode": {
   "interpreter": {
    "hash": "916dbcbb3f70747c44a77c7bcd40155683ae19c65e1c03b4aa3499c5328201f1"
   }
  }
 },
 "nbformat": 4,
 "nbformat_minor": 5
}