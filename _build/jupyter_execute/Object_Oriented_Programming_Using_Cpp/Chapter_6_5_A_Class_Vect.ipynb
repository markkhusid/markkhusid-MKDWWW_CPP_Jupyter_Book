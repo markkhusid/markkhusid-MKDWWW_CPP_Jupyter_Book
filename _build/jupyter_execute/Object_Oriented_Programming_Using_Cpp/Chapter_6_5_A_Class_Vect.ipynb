{
 "cells": [
  {
   "cell_type": "raw",
   "id": "15b484a3-b826-4b72-ad90-8fc090a94c25",
   "metadata": {},
   "source": [
    "---\n",
    "jupytext:\n",
    "  formats: md:myst\n",
    "  text_representation:\n",
    "    extension: .md\n",
    "    format_name: myst\n",
    "kernelspec:\n",
    "  display_name: Python 3\n",
    "  language: python\n",
    "  name: python3\n",
    "---"
   ]
  },
  {
   "cell_type": "markdown",
   "id": "4fae3c47-7ba5-411e-929d-45543f813a61",
   "metadata": {
    "tags": []
   },
   "source": [
    "# A Class Vect"
   ]
  },
  {
   "cell_type": "markdown",
   "id": "da8da31b-2a7d-4e52-a914-442ca5a67839",
   "metadata": {},
   "source": [
    "Adapted from: \"Object-Oriented Programming Using C++\" by Ira Pohl (Addison - Wesley)"
   ]
  },
  {
   "cell_type": "markdown",
   "id": "6d7f6d49-ca5d-4d20-bf88-0bf99bdba5ea",
   "metadata": {},
   "source": [
    "## Program that demonstrates a dynamic array or vector in C++"
   ]
  },
  {
   "cell_type": "markdown",
   "id": "17067957",
   "metadata": {},
   "source": [
    "In file vect1.cpp"
   ]
  },
  {
   "cell_type": "markdown",
   "id": "fae9a7ec-75a5-4a60-b10f-3b4693886d0c",
   "metadata": {},
   "source": [
    "```c++\n",
    "/*********************************************************************\n",
    "\n",
    "  Filename:  vect1.cpp\n",
    "  Chapter:   6      Object Creation and Destruction\n",
    "  Section:   6.7    A Class vect\n",
    "  Compiler:  Borland C++     Version 5.0       Summer 1996\n",
    "  Object Oriented Programming Using C++, Edition 2   By Ira Pohl\n",
    "\n",
    "*********************************************************************/\n",
    "\n",
    "//test of safe array type vect\n",
    "\n",
    "#include \"vect1.h\"\n",
    "\n",
    "using namespace std;    // Added. MK\n",
    "\n",
    "int main()\n",
    "{\n",
    "   vect a(60), b[20];\n",
    "\n",
    "   b[1].element(5) = 7;\n",
    "   cout << b[1].element(5) << \" 1 element 5\\n\";\n",
    "   for (int i = 0; i <= a.ub(); ++i) {\n",
    "      a.element(i) = i;\n",
    "      cout << a.element(i) << \"\\t\";\n",
    "   }\n",
    "   cout << endl;     // Added for output clarity\n",
    "}\n",
    "```"
   ]
  },
  {
   "cell_type": "markdown",
   "id": "a417fe12",
   "metadata": {},
   "source": [
    "In file vect1.h"
   ]
  },
  {
   "cell_type": "markdown",
   "id": "98e72bd7",
   "metadata": {},
   "source": [
    "```C++\n",
    "/*********************************************************************\n",
    "\n",
    "  Filename:  vect1.h\n",
    "  Chapter:   6      Object Creation and Destruction\n",
    "  Section:   6.5    A class vect\n",
    "  Compiler:  Borland C++     Version 5.0       Summer 1996\n",
    "  Object Oriented Programming Using C++, Edition 2   By Ira Pohl\n",
    "\n",
    "*********************************************************************/\n",
    "\n",
    "//Implementation of a safe array type vect\n",
    "\n",
    "#include  <iostream>    // changed iostream.h to iostream. MK\n",
    "#include  <assert.h>\n",
    "\n",
    "//Implementation of a safe array type vect\n",
    "class vect {\n",
    "public:\n",
    "   explicit vect(int n = 10);\n",
    "   ~vect() { delete []p; }\n",
    "   int&  element(int i);                 //access p[i]\n",
    "   int  ub() const {return (size - 1);}  //upper bound\n",
    "private:\n",
    "   int*  p;\n",
    "   int   size;\n",
    "};\n",
    "\n",
    "vect::vect(int n) : size(n)\n",
    "{\n",
    "   assert(n > 0);\n",
    "   p = new int[size];\n",
    "   assert(p != 0);\n",
    "}\n",
    "\n",
    "int& vect::element(int i)\n",
    "{\n",
    "   assert (i >= 0 && i < size);\n",
    "   return p[i];\n",
    "}\n",
    "```"
   ]
  },
  {
   "cell_type": "markdown",
   "id": "3e111038",
   "metadata": {},
   "source": [
    "## Compilation Process"
   ]
  },
  {
   "cell_type": "markdown",
   "id": "e7e2abf0-947f-407d-8084-28bf87186370",
   "metadata": {},
   "source": [
    "The above program is compiled and run using Gnu Compiler Collection (g++):"
   ]
  },
  {
   "cell_type": "code",
   "execution_count": 1,
   "id": "f091e74f-fca0-43fa-8114-1c526abb4f95",
   "metadata": {},
   "outputs": [],
   "source": [
    "import os\n",
    "root_dir = os.getcwd()"
   ]
  },
  {
   "cell_type": "code",
   "execution_count": 2,
   "id": "9836a2e4-d065-4ba0-928b-66a4e7cce418",
   "metadata": {},
   "outputs": [],
   "source": [
    "code_dir = root_dir + \"/\" + \\\n",
    "    \"Cpp_Code/Chapter_6_5_A_Class_Vect\""
   ]
  },
  {
   "cell_type": "code",
   "execution_count": 3,
   "id": "af912e98-7de3-40d7-8825-217493f6a66b",
   "metadata": {},
   "outputs": [],
   "source": [
    "os.chdir(code_dir)"
   ]
  },
  {
   "cell_type": "code",
   "execution_count": 4,
   "id": "a734c6b9-cf2b-455b-a921-40f7efc58bd2",
   "metadata": {},
   "outputs": [],
   "source": [
    "build_command = os.system(\"g++ vect1.cpp -w -o vect1\")"
   ]
  },
  {
   "cell_type": "markdown",
   "id": "999f33dc",
   "metadata": {},
   "source": [
    "## Execution Process"
   ]
  },
  {
   "cell_type": "code",
   "execution_count": 5,
   "id": "e58df301-ac7c-4090-bc7f-87caea2890fa",
   "metadata": {},
   "outputs": [
    {
     "name": "stdout",
     "output_type": "stream",
     "text": [
      "7 1 element 5\n",
      "0\t1\t2\t3\t4\t5\t6\t7\t8\t9\t10\t11\t12\t13\t14\t15\t16\t17\t18\t19\t20\t21\t22\t23\t24\t25\t26\t27\t28\t29\t30\t31\t32\t33\t34\t35\t36\t37\t38\t39\t40\t41\t42\t43\t44\t45\t46\t47\t48\t49\t50\t51\t52\t53\t54\t55\t56\t57\t58\t59\t\n"
     ]
    }
   ],
   "source": [
    "exec_status = os.system(\"./vect1\")"
   ]
  }
 ],
 "metadata": {
  "kernelspec": {
   "display_name": "Python 3 (ipykernel)",
   "language": "python",
   "name": "python3"
  },
  "language_info": {
   "codemirror_mode": {
    "name": "ipython",
    "version": 3
   },
   "file_extension": ".py",
   "mimetype": "text/x-python",
   "name": "python",
   "nbconvert_exporter": "python",
   "pygments_lexer": "ipython3",
   "version": "3.10.13"
  },
  "vscode": {
   "interpreter": {
    "hash": "916dbcbb3f70747c44a77c7bcd40155683ae19c65e1c03b4aa3499c5328201f1"
   }
  }
 },
 "nbformat": 4,
 "nbformat_minor": 5
}